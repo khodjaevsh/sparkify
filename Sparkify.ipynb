{
 "cells": [
  {
   "cell_type": "markdown",
   "metadata": {},
   "source": [
    "# Sparkify Project "
   ]
  },
  {
   "cell_type": "markdown",
   "metadata": {},
   "source": [
    "## Project Overview\n",
    "\n",
    "The purpose of this project is to understand and predict customer churn for Sparkify (online music streaming service) by analyzing available online customer journey data and using it in the devleopment of ML solution.\n",
    "\n",
    "## Problem Statement\n",
    "\n",
    "Understanding and being able to predict customer churn is highly important for the companies. Knowing, which customer is more likely to Churn, company can react and propose incentives to keep the customer. Customer retention is one of the key areas of marketing. Moreover, retaining customer is usually much cheaper than acquiring a new customer, hence, being able to understand and predict customer churn is crucial for the company to be profitable and successful.\n",
    "\n",
    "## Metrics\n",
    "\n",
    "To measure the performance of the churn prediction, f1 score - a harmonized mean of precision and recall will be used as it is important for us not only to accurately predict customers who are about to churn, but also to avoid false positives as we want to avoid providing unnecessary incentives and marketing investment into customers who are not going to churn in reality.\n",
    "\n",
    "## Definition\n",
    "\n",
    "Churned customer is a customer who cancels the service subscription\n",
    "\n",
    "## Data\n",
    "\n",
    "The data to be analyzed is available on Udacity's workspace. file: mini_sparkify_event_data.json"
   ]
  },
  {
   "cell_type": "code",
   "execution_count": 52,
   "metadata": {},
   "outputs": [],
   "source": [
    "# import libraries\n",
    "import pandas as pd\n",
    "import numpy as np\n",
    "import matplotlib.pyplot as plt\n",
    "import seaborn as sns\n",
    "import pyspark\n",
    "from pyspark.sql import SparkSession\n",
    "import pyspark.sql.functions as F\n",
    "from pyspark.sql.functions import col , column\n",
    "from pyspark.sql.types import DateType\n",
    "from pyspark.ml import Pipeline\n",
    "from pyspark.ml.feature import StringIndexer, OneHotEncoder, VectorAssembler\n",
    "from pyspark.sql.functions import col\n",
    "from pyspark.ml import Pipeline\n",
    "from pyspark.ml.classification import RandomForestClassifier\n",
    "from pyspark.ml.feature import IndexToString, StringIndexer, VectorIndexer\n",
    "from pyspark.ml.evaluation import MulticlassClassificationEvaluator\n",
    "from sklearn.metrics import f1_score"
   ]
  },
  {
   "cell_type": "code",
   "execution_count": 2,
   "metadata": {},
   "outputs": [],
   "source": [
    "# create a Spark session\n",
    "spark = SparkSession.builder.appName('ps').getOrCreate()"
   ]
  },
  {
   "cell_type": "markdown",
   "metadata": {},
   "source": [
    "# Load and Clean Dataset\n",
    "In this workspace, the mini-dataset file is `mini_sparkify_event_data.json`. Load and clean the dataset, checking for invalid or missing data - for example, records without userids or sessionids. "
   ]
  },
  {
   "cell_type": "code",
   "execution_count": 3,
   "metadata": {},
   "outputs": [],
   "source": [
    "df = spark.read.json('mini_sparkify_event_data.json')"
   ]
  },
  {
   "cell_type": "code",
   "execution_count": 4,
   "metadata": {},
   "outputs": [
    {
     "name": "stdout",
     "output_type": "stream",
     "text": [
      "Number of rows: 286500 Number of attributes: 18\n"
     ]
    }
   ],
   "source": [
    "print(f'Number of rows: {df.count()} Number of attributes: {len(df.columns)}')"
   ]
  },
  {
   "cell_type": "code",
   "execution_count": 5,
   "metadata": {},
   "outputs": [
    {
     "name": "stdout",
     "output_type": "stream",
     "text": [
      "List of attributes: ['artist', 'auth', 'firstName', 'gender', 'itemInSession', 'lastName', 'length', 'level', 'location', 'method', 'page', 'registration', 'sessionId', 'song', 'status', 'ts', 'userAgent', 'userId']\n"
     ]
    }
   ],
   "source": [
    "print(f'List of attributes: {df.columns}')"
   ]
  },
  {
   "cell_type": "markdown",
   "metadata": {},
   "source": [
    "# Data Overview"
   ]
  },
  {
   "cell_type": "markdown",
   "metadata": {},
   "source": [
    "## Missing data"
   ]
  },
  {
   "cell_type": "code",
   "execution_count": 6,
   "metadata": {},
   "outputs": [
    {
     "data": {
      "text/html": [
       "<div>\n",
       "<style scoped>\n",
       "    .dataframe tbody tr th:only-of-type {\n",
       "        vertical-align: middle;\n",
       "    }\n",
       "\n",
       "    .dataframe tbody tr th {\n",
       "        vertical-align: top;\n",
       "    }\n",
       "\n",
       "    .dataframe thead th {\n",
       "        text-align: right;\n",
       "    }\n",
       "</style>\n",
       "<table border=\"1\" class=\"dataframe\">\n",
       "  <thead>\n",
       "    <tr style=\"text-align: right;\">\n",
       "      <th></th>\n",
       "      <th>count</th>\n",
       "    </tr>\n",
       "  </thead>\n",
       "  <tbody>\n",
       "    <tr>\n",
       "      <th>artist</th>\n",
       "      <td>58392</td>\n",
       "    </tr>\n",
       "    <tr>\n",
       "      <th>length</th>\n",
       "      <td>58392</td>\n",
       "    </tr>\n",
       "    <tr>\n",
       "      <th>song</th>\n",
       "      <td>58392</td>\n",
       "    </tr>\n",
       "    <tr>\n",
       "      <th>firstName</th>\n",
       "      <td>8346</td>\n",
       "    </tr>\n",
       "    <tr>\n",
       "      <th>gender</th>\n",
       "      <td>8346</td>\n",
       "    </tr>\n",
       "    <tr>\n",
       "      <th>userAgent</th>\n",
       "      <td>8346</td>\n",
       "    </tr>\n",
       "    <tr>\n",
       "      <th>lastName</th>\n",
       "      <td>8346</td>\n",
       "    </tr>\n",
       "    <tr>\n",
       "      <th>location</th>\n",
       "      <td>8346</td>\n",
       "    </tr>\n",
       "    <tr>\n",
       "      <th>registration</th>\n",
       "      <td>8346</td>\n",
       "    </tr>\n",
       "    <tr>\n",
       "      <th>sessionId</th>\n",
       "      <td>0</td>\n",
       "    </tr>\n",
       "    <tr>\n",
       "      <th>ts</th>\n",
       "      <td>0</td>\n",
       "    </tr>\n",
       "    <tr>\n",
       "      <th>status</th>\n",
       "      <td>0</td>\n",
       "    </tr>\n",
       "    <tr>\n",
       "      <th>method</th>\n",
       "      <td>0</td>\n",
       "    </tr>\n",
       "    <tr>\n",
       "      <th>page</th>\n",
       "      <td>0</td>\n",
       "    </tr>\n",
       "    <tr>\n",
       "      <th>auth</th>\n",
       "      <td>0</td>\n",
       "    </tr>\n",
       "    <tr>\n",
       "      <th>level</th>\n",
       "      <td>0</td>\n",
       "    </tr>\n",
       "    <tr>\n",
       "      <th>itemInSession</th>\n",
       "      <td>0</td>\n",
       "    </tr>\n",
       "    <tr>\n",
       "      <th>userId</th>\n",
       "      <td>0</td>\n",
       "    </tr>\n",
       "  </tbody>\n",
       "</table>\n",
       "</div>"
      ],
      "text/plain": [
       "               count\n",
       "artist         58392\n",
       "length         58392\n",
       "song           58392\n",
       "firstName       8346\n",
       "gender          8346\n",
       "userAgent       8346\n",
       "lastName        8346\n",
       "location        8346\n",
       "registration    8346\n",
       "sessionId          0\n",
       "ts                 0\n",
       "status             0\n",
       "method             0\n",
       "page               0\n",
       "auth               0\n",
       "level              0\n",
       "itemInSession      0\n",
       "userId             0"
      ]
     },
     "execution_count": 6,
     "metadata": {},
     "output_type": "execute_result"
    }
   ],
   "source": [
    "def count_missings(spark_df,sort=True):\n",
    "    \"\"\"\n",
    "    Counts number of nulls and nans in each column\n",
    "    Input:\n",
    "    - spark_df - pyspark data frame\n",
    "    Output:\n",
    "    - data frame with missing values\n",
    "    \"\"\"\n",
    "    df = spark_df.select([F.count(F.when(F.isnan(c) | F.isnull(c), c)).alias(c) for (c,c_type) in spark_df.dtypes]).toPandas()\n",
    "\n",
    "    if len(df) == 0:\n",
    "        print(\"There are no any missing values!\")\n",
    "        return None\n",
    "\n",
    "    if sort:\n",
    "        return df.rename(index={0: 'count'}).T.sort_values(\"count\",ascending=False)\n",
    "\n",
    "    return df\n",
    "\n",
    "count_missings(df)"
   ]
  },
  {
   "cell_type": "code",
   "execution_count": 8,
   "metadata": {},
   "outputs": [
    {
     "data": {
      "text/html": [
       "<div>\n",
       "<style scoped>\n",
       "    .dataframe tbody tr th:only-of-type {\n",
       "        vertical-align: middle;\n",
       "    }\n",
       "\n",
       "    .dataframe tbody tr th {\n",
       "        vertical-align: top;\n",
       "    }\n",
       "\n",
       "    .dataframe thead th {\n",
       "        text-align: right;\n",
       "    }\n",
       "</style>\n",
       "<table border=\"1\" class=\"dataframe\">\n",
       "  <thead>\n",
       "    <tr style=\"text-align: right;\">\n",
       "      <th></th>\n",
       "      <th>auth</th>\n",
       "      <th>count</th>\n",
       "    </tr>\n",
       "  </thead>\n",
       "  <tbody>\n",
       "    <tr>\n",
       "      <th>0</th>\n",
       "      <td>Logged Out</td>\n",
       "      <td>8249</td>\n",
       "    </tr>\n",
       "    <tr>\n",
       "      <th>1</th>\n",
       "      <td>Guest</td>\n",
       "      <td>97</td>\n",
       "    </tr>\n",
       "  </tbody>\n",
       "</table>\n",
       "</div>"
      ],
      "text/plain": [
       "         auth  count\n",
       "0  Logged Out   8249\n",
       "1       Guest     97"
      ]
     },
     "execution_count": 8,
     "metadata": {},
     "output_type": "execute_result"
    }
   ],
   "source": [
    "table = df.createOrReplaceTempView('table')\n",
    "spark.sql(\"select distinct auth, count(1) as count from table where userAgent is null group by auth\").toPandas()"
   ]
  },
  {
   "cell_type": "markdown",
   "metadata": {},
   "source": [
    "Looking at the missing data, I see that the most important information is there, no missing userIds or session ids. The other none points can be explained by the fact that most of the entries miss at the point when user logs out, which is expected, hence, normal and doesn't require any actions"
   ]
  },
  {
   "cell_type": "markdown",
   "metadata": {},
   "source": [
    "## Data Types"
   ]
  },
  {
   "cell_type": "code",
   "execution_count": 10,
   "metadata": {},
   "outputs": [
    {
     "data": {
      "text/plain": [
       "Row(artist='Martha Tilston', auth='Logged In', firstName='Colin', gender='M', itemInSession=50, lastName='Freeman', length=277.89016, level='paid', location='Bakersfield, CA', method='PUT', page='NextSong', registration=1538173362000, sessionId=29, song='Rockpools', status=200, ts=1538352117000, userAgent='Mozilla/5.0 (Windows NT 6.1; WOW64; rv:31.0) Gecko/20100101 Firefox/31.0', userId='30')"
      ]
     },
     "execution_count": 10,
     "metadata": {},
     "output_type": "execute_result"
    }
   ],
   "source": [
    "df.first()"
   ]
  },
  {
   "cell_type": "code",
   "execution_count": 11,
   "metadata": {
    "scrolled": true
   },
   "outputs": [
    {
     "data": {
      "text/plain": [
       "DataFrame[summary: string, artist: string, auth: string, firstName: string, gender: string, itemInSession: string, lastName: string, length: string, level: string, location: string, method: string, page: string, registration: string, sessionId: string, song: string, status: string, ts: string, userAgent: string, userId: string]"
      ]
     },
     "execution_count": 11,
     "metadata": {},
     "output_type": "execute_result"
    }
   ],
   "source": [
    "df.describe()"
   ]
  },
  {
   "cell_type": "markdown",
   "metadata": {},
   "source": [
    "All of the variables are of type string, hence some variables have inapropriate datatype that have to be changed."
   ]
  },
  {
   "cell_type": "code",
   "execution_count": 12,
   "metadata": {},
   "outputs": [],
   "source": [
    "# Select columns per type to be transformed into\n",
    "integers = [\"itemInSession\",\"registration\",\"sessionId\",\"userId\",\"status\", \"ts\"]\n",
    "floats = [\"length\"]\n",
    "\n",
    "# Run the type transformation\n",
    "\n",
    "for c in integers:\n",
    "    df = df.withColumn(c, col(c).cast('integer'))\n",
    "    \n",
    "for c in floats:\n",
    "    df = df.withColumn(c, col(c).cast('float'))"
   ]
  },
  {
   "cell_type": "markdown",
   "metadata": {},
   "source": [
    "There is also ts column which seems to be a data frame, which I want to cast into datetime format"
   ]
  },
  {
   "cell_type": "code",
   "execution_count": 13,
   "metadata": {},
   "outputs": [],
   "source": [
    "# Cast ts into date type\n",
    "df = df.withColumn('date',  F.from_unixtime('ts').cast(DateType()))"
   ]
  },
  {
   "cell_type": "markdown",
   "metadata": {},
   "source": [
    "# Exploratory Data Analysis"
   ]
  },
  {
   "cell_type": "markdown",
   "metadata": {},
   "source": [
    "As mentioned in the definition part of the introduction, Churned customer is a customer who cancelled the subscription. Churn flag will be added to the data set"
   ]
  },
  {
   "cell_type": "code",
   "execution_count": 22,
   "metadata": {},
   "outputs": [
    {
     "data": {
      "text/html": [
       "<div>\n",
       "<style scoped>\n",
       "    .dataframe tbody tr th:only-of-type {\n",
       "        vertical-align: middle;\n",
       "    }\n",
       "\n",
       "    .dataframe tbody tr th {\n",
       "        vertical-align: top;\n",
       "    }\n",
       "\n",
       "    .dataframe thead th {\n",
       "        text-align: right;\n",
       "    }\n",
       "</style>\n",
       "<table border=\"1\" class=\"dataframe\">\n",
       "  <thead>\n",
       "    <tr style=\"text-align: right;\">\n",
       "      <th></th>\n",
       "      <th>page</th>\n",
       "      <th>userId_count</th>\n",
       "    </tr>\n",
       "  </thead>\n",
       "  <tbody>\n",
       "    <tr>\n",
       "      <th>0</th>\n",
       "      <td>Cancel</td>\n",
       "      <td>52</td>\n",
       "    </tr>\n",
       "    <tr>\n",
       "      <th>1</th>\n",
       "      <td>Submit Downgrade</td>\n",
       "      <td>49</td>\n",
       "    </tr>\n",
       "    <tr>\n",
       "      <th>2</th>\n",
       "      <td>Thumbs Down</td>\n",
       "      <td>203</td>\n",
       "    </tr>\n",
       "    <tr>\n",
       "      <th>3</th>\n",
       "      <td>Home</td>\n",
       "      <td>223</td>\n",
       "    </tr>\n",
       "    <tr>\n",
       "      <th>4</th>\n",
       "      <td>Downgrade</td>\n",
       "      <td>154</td>\n",
       "    </tr>\n",
       "    <tr>\n",
       "      <th>5</th>\n",
       "      <td>Roll Advert</td>\n",
       "      <td>207</td>\n",
       "    </tr>\n",
       "    <tr>\n",
       "      <th>6</th>\n",
       "      <td>Logout</td>\n",
       "      <td>213</td>\n",
       "    </tr>\n",
       "    <tr>\n",
       "      <th>7</th>\n",
       "      <td>Save Settings</td>\n",
       "      <td>132</td>\n",
       "    </tr>\n",
       "    <tr>\n",
       "      <th>8</th>\n",
       "      <td>Cancellation Confirmation</td>\n",
       "      <td>52</td>\n",
       "    </tr>\n",
       "    <tr>\n",
       "      <th>9</th>\n",
       "      <td>About</td>\n",
       "      <td>155</td>\n",
       "    </tr>\n",
       "    <tr>\n",
       "      <th>10</th>\n",
       "      <td>Submit Registration</td>\n",
       "      <td>0</td>\n",
       "    </tr>\n",
       "    <tr>\n",
       "      <th>11</th>\n",
       "      <td>Settings</td>\n",
       "      <td>195</td>\n",
       "    </tr>\n",
       "    <tr>\n",
       "      <th>12</th>\n",
       "      <td>Login</td>\n",
       "      <td>0</td>\n",
       "    </tr>\n",
       "    <tr>\n",
       "      <th>13</th>\n",
       "      <td>Register</td>\n",
       "      <td>0</td>\n",
       "    </tr>\n",
       "    <tr>\n",
       "      <th>14</th>\n",
       "      <td>Add to Playlist</td>\n",
       "      <td>215</td>\n",
       "    </tr>\n",
       "    <tr>\n",
       "      <th>15</th>\n",
       "      <td>Add Friend</td>\n",
       "      <td>206</td>\n",
       "    </tr>\n",
       "    <tr>\n",
       "      <th>16</th>\n",
       "      <td>NextSong</td>\n",
       "      <td>225</td>\n",
       "    </tr>\n",
       "    <tr>\n",
       "      <th>17</th>\n",
       "      <td>Thumbs Up</td>\n",
       "      <td>220</td>\n",
       "    </tr>\n",
       "    <tr>\n",
       "      <th>18</th>\n",
       "      <td>Help</td>\n",
       "      <td>192</td>\n",
       "    </tr>\n",
       "    <tr>\n",
       "      <th>19</th>\n",
       "      <td>Upgrade</td>\n",
       "      <td>168</td>\n",
       "    </tr>\n",
       "    <tr>\n",
       "      <th>20</th>\n",
       "      <td>Error</td>\n",
       "      <td>117</td>\n",
       "    </tr>\n",
       "    <tr>\n",
       "      <th>21</th>\n",
       "      <td>Submit Upgrade</td>\n",
       "      <td>131</td>\n",
       "    </tr>\n",
       "  </tbody>\n",
       "</table>\n",
       "</div>"
      ],
      "text/plain": [
       "                         page  userId_count\n",
       "0                      Cancel            52\n",
       "1            Submit Downgrade            49\n",
       "2                 Thumbs Down           203\n",
       "3                        Home           223\n",
       "4                   Downgrade           154\n",
       "5                 Roll Advert           207\n",
       "6                      Logout           213\n",
       "7               Save Settings           132\n",
       "8   Cancellation Confirmation            52\n",
       "9                       About           155\n",
       "10        Submit Registration             0\n",
       "11                   Settings           195\n",
       "12                      Login             0\n",
       "13                   Register             0\n",
       "14            Add to Playlist           215\n",
       "15                 Add Friend           206\n",
       "16                   NextSong           225\n",
       "17                  Thumbs Up           220\n",
       "18                       Help           192\n",
       "19                    Upgrade           168\n",
       "20                      Error           117\n",
       "21             Submit Upgrade           131"
      ]
     },
     "execution_count": 22,
     "metadata": {},
     "output_type": "execute_result"
    }
   ],
   "source": [
    "pages = spark.sql(\"Select page, count(distinct userId) as userId_count from df group by page\").toPandas()\n",
    "pages"
   ]
  },
  {
   "cell_type": "code",
   "execution_count": 14,
   "metadata": {},
   "outputs": [
    {
     "name": "stdout",
     "output_type": "stream",
     "text": [
      "+------+-----+\n",
      "|    id|Churn|\n",
      "+------+-----+\n",
      "|200001|    1|\n",
      "|    53|    1|\n",
      "|100003|    1|\n",
      "|200021|    1|\n",
      "|100007|    1|\n",
      "+------+-----+\n",
      "only showing top 5 rows\n",
      "\n"
     ]
    }
   ],
   "source": [
    "df.createOrReplaceTempView('df')\n",
    "churned = spark.sql(\"Select distinct userId as id from df where page = 'Cancellation Confirmation'\")\n",
    "churned = churned.withColumn('Churn', F.lit(1))\n",
    "churned.show(5)"
   ]
  },
  {
   "cell_type": "code",
   "execution_count": 15,
   "metadata": {},
   "outputs": [
    {
     "data": {
      "text/plain": [
       "Row(artist='Martha Tilston', auth='Logged In', firstName='Colin', gender='M', itemInSession=50, lastName='Freeman', length=277.8901672363281, level='paid', location='Bakersfield, CA', method='PUT', page='NextSong', registration=575070032, sessionId=29, song='Rockpools', status=200, ts=753825032, userAgent='Mozilla/5.0 (Windows NT 6.1; WOW64; rv:31.0) Gecko/20100101 Firefox/31.0', userId=30, date=datetime.date(1993, 11, 20), id=None, Churn=None)"
      ]
     },
     "execution_count": 15,
     "metadata": {},
     "output_type": "execute_result"
    }
   ],
   "source": [
    "df = df.join(churned, df.userId == churned.id, how = 'left')\n",
    "df.first()"
   ]
  },
  {
   "cell_type": "code",
   "execution_count": 16,
   "metadata": {},
   "outputs": [
    {
     "data": {
      "text/plain": [
       "Row(artist='Martha Tilston', auth='Logged In', firstName='Colin', gender='M', itemInSession=50, lastName='Freeman', length=277.8901672363281, level='paid', location='Bakersfield, CA', method='PUT', page='NextSong', registration=575070032, sessionId=29, song='Rockpools', status=200, ts=753825032, userAgent='Mozilla/5.0 (Windows NT 6.1; WOW64; rv:31.0) Gecko/20100101 Firefox/31.0', userId=30, date=datetime.date(1993, 11, 20), Churn=0)"
      ]
     },
     "execution_count": 16,
     "metadata": {},
     "output_type": "execute_result"
    }
   ],
   "source": [
    "df = df.fillna(0, subset = 'Churn')\n",
    "df = df.drop('id')\n",
    "df.first()"
   ]
  },
  {
   "cell_type": "markdown",
   "metadata": {},
   "source": [
    "## Churn analysis and feature engineering"
   ]
  },
  {
   "cell_type": "markdown",
   "metadata": {},
   "source": [
    "### Gender"
   ]
  },
  {
   "cell_type": "code",
   "execution_count": 23,
   "metadata": {},
   "outputs": [
    {
     "data": {
      "image/png": "[encoded data removed]",
      "text/plain": [
       "<matplotlib.figure.Figure at 0x7f89f0f43c18>"
      ]
     },
     "metadata": {
      "needs_background": "light"
     },
     "output_type": "display_data"
    }
   ],
   "source": [
    "df.createOrReplaceTempView('df')\n",
    "gender = spark.sql('select count(distinct userId) as count, gender, Churn from df group by gender, Churn').toPandas().dropna()\n",
    "sns.barplot(data = gender, x ='gender', y = 'count', hue = 'Churn')\n",
    "plt.title('Churn by gender')\n",
    "plt.ylabel('Count of unique user Ids')\n",
    "plt.show()"
   ]
  },
  {
   "cell_type": "markdown",
   "metadata": {},
   "source": [
    "Male users have a slightly higher chance to churn than women"
   ]
  },
  {
   "cell_type": "markdown",
   "metadata": {},
   "source": [
    "### State"
   ]
  },
  {
   "cell_type": "code",
   "execution_count": 24,
   "metadata": {},
   "outputs": [
    {
     "data": {
      "text/plain": [
       "Row(artist='Martha Tilston', auth='Logged In', firstName='Colin', gender='M', itemInSession=50, lastName='Freeman', length=277.8901672363281, level='paid', location='Bakersfield, CA', method='PUT', page='NextSong', registration=575070032, sessionId=29, song='Rockpools', status=200, ts=753825032, userAgent='Mozilla/5.0 (Windows NT 6.1; WOW64; rv:31.0) Gecko/20100101 Firefox/31.0', userId=30, date=datetime.date(1993, 11, 20), Churn=0, State='CA')"
      ]
     },
     "execution_count": 24,
     "metadata": {},
     "output_type": "execute_result"
    }
   ],
   "source": [
    "df = df.withColumn('State',F.substring('location',-2,2))\n",
    "df.first()"
   ]
  },
  {
   "cell_type": "code",
   "execution_count": 26,
   "metadata": {},
   "outputs": [
    {
     "data": {
      "image/png": "[encoded data removed]",
      "text/plain": [
       "<matplotlib.figure.Figure at 0x7f89f0f39c88>"
      ]
     },
     "metadata": {
      "needs_background": "light"
     },
     "output_type": "display_data"
    }
   ],
   "source": [
    "df.createOrReplaceTempView('df')\n",
    "location = spark.sql('select State, Churn, count(distinct userId) as count from df \\\n",
    "group by State, Churn').toPandas().dropna()\n",
    "plt.figure(figsize = (15,5))\n",
    "sns.barplot(data = location, x ='State', y = 'count', hue = 'Churn')\n",
    "plt.ylabel('Count of unique user Ids')\n",
    "plt.title('Churn by State')\n",
    "plt.show()"
   ]
  },
  {
   "cell_type": "markdown",
   "metadata": {},
   "source": [
    "Some states have very high churn levels"
   ]
  },
  {
   "cell_type": "markdown",
   "metadata": {},
   "source": [
    "### Device"
   ]
  },
  {
   "cell_type": "code",
   "execution_count": 27,
   "metadata": {},
   "outputs": [
    {
     "data": {
      "text/plain": [
       "Row(artist='Martha Tilston', auth='Logged In', firstName='Colin', gender='M', itemInSession=50, lastName='Freeman', length=277.8901672363281, level='paid', location='Bakersfield, CA', method='PUT', page='NextSong', registration=575070032, sessionId=29, song='Rockpools', status=200, ts=753825032, userAgent='Mozilla/5.0 (Windows NT 6.1; WOW64; rv:31.0) Gecko/20100101 Firefox/31.0', userId=30, date=datetime.date(1993, 11, 20), Churn=0, State='CA', device='Windows NT 6.1')"
      ]
     },
     "execution_count": 27,
     "metadata": {},
     "output_type": "execute_result"
    }
   ],
   "source": [
    "df = df.withColumn('device', F.split(F.split(col('userAgent'),' \\(').getItem(1),';').getItem(0))\n",
    "df.first()"
   ]
  },
  {
   "cell_type": "code",
   "execution_count": 29,
   "metadata": {},
   "outputs": [
    {
     "data": {
      "image/png": "[encoded data removed]",
      "text/plain": [
       "<matplotlib.figure.Figure at 0x7f89f0aa5c18>"
      ]
     },
     "metadata": {
      "needs_background": "light"
     },
     "output_type": "display_data"
    }
   ],
   "source": [
    "df.createOrReplaceTempView('df')\n",
    "xx = spark.sql('select device, Churn, count(distinct userId) as count from df \\\n",
    "group by device, Churn').toPandas()\n",
    "plt.figure(figsize = (15,5))\n",
    "sns.barplot(data = xx, x ='device', y = 'count', hue = 'Churn')\n",
    "plt.ylabel('Count of unique user Ids')\n",
    "plt.title('Churn by device')\n",
    "plt.xticks(rotation = 60)\n",
    "plt.show()"
   ]
  },
  {
   "cell_type": "markdown",
   "metadata": {},
   "source": [
    "X11 has the highest rate of churn followed by iPhone and Windows NT 6.3 device"
   ]
  },
  {
   "cell_type": "markdown",
   "metadata": {},
   "source": [
    "### Pages"
   ]
  },
  {
   "cell_type": "code",
   "execution_count": 30,
   "metadata": {},
   "outputs": [
    {
     "data": {
      "image/png": "[encoded data removed]",
      "text/plain": [
       "<matplotlib.figure.Figure at 0x7f89f098cfd0>"
      ]
     },
     "metadata": {
      "needs_background": "light"
     },
     "output_type": "display_data"
    }
   ],
   "source": [
    "pages = spark.sql('select page,Churn, count(distinct userId) as count from df group by page, Churn').toPandas()\n",
    "plt.figure(figsize = (15,8))\n",
    "sns.barplot(data = pages, x = 'page', y ='count', hue = 'Churn')\n",
    "plt.ylabel('Count of unique user Ids')\n",
    "plt.title('Churn by page visit')\n",
    "plt.xticks(rotation = 60)\n",
    "plt.show()"
   ]
  },
  {
   "cell_type": "markdown",
   "metadata": {},
   "source": [
    "### Usage stats per userId"
   ]
  },
  {
   "cell_type": "code",
   "execution_count": 33,
   "metadata": {},
   "outputs": [],
   "source": [
    "df.createOrReplaceTempView('df')\n",
    "dfagg = spark.sql('select count(song)/datediff(max(date),min(date)) as avg_songs_day, \\\n",
    "count(artist)/datediff(max(date),min(date)) as avg_artist_day, \\\n",
    "count(distinct song)/datediff(max(date),min(date)) as avg_songs_dist_day, \\\n",
    "count(distinct artist)/datediff(max(date),min(date)) as avg_artist_dist_day, \\\n",
    "sum(length)/datediff(max(date),min(date)) as length_day, \\\n",
    "max(length) as max_length, \\\n",
    "min(length) as min_length, \\\n",
    "(sum(length)/count(song))/datediff(max(date),min(date)) as length_day_song, \\\n",
    "count(distinct sessionId)/datediff(max(date),min(date)) as session_day, \\\n",
    "count(page)/datediff(max(date),min(date)) as page_visit_day, \\\n",
    "avg(itemInSession) as avg_max_item, \\\n",
    "userId, Churn from df \\\n",
    "group by userId, Churn').toPandas()"
   ]
  },
  {
   "cell_type": "code",
   "execution_count": 34,
   "metadata": {},
   "outputs": [
    {
     "data": {
      "text/html": [
       "<div>\n",
       "<style scoped>\n",
       "    .dataframe tbody tr th:only-of-type {\n",
       "        vertical-align: middle;\n",
       "    }\n",
       "\n",
       "    .dataframe tbody tr th {\n",
       "        vertical-align: top;\n",
       "    }\n",
       "\n",
       "    .dataframe thead th {\n",
       "        text-align: right;\n",
       "    }\n",
       "</style>\n",
       "<table border=\"1\" class=\"dataframe\">\n",
       "  <thead>\n",
       "    <tr style=\"text-align: right;\">\n",
       "      <th></th>\n",
       "      <th>0</th>\n",
       "      <th>1</th>\n",
       "      <th>2</th>\n",
       "      <th>3</th>\n",
       "      <th>4</th>\n",
       "    </tr>\n",
       "  </thead>\n",
       "  <tbody>\n",
       "    <tr>\n",
       "      <th>avg_songs_day</th>\n",
       "      <td>0.076354</td>\n",
       "      <td>0.086847</td>\n",
       "      <td>0.030952</td>\n",
       "      <td>0.045189</td>\n",
       "      <td>0.023951</td>\n",
       "    </tr>\n",
       "    <tr>\n",
       "      <th>avg_artist_day</th>\n",
       "      <td>0.076354</td>\n",
       "      <td>0.086847</td>\n",
       "      <td>0.030952</td>\n",
       "      <td>0.045189</td>\n",
       "      <td>0.023951</td>\n",
       "    </tr>\n",
       "    <tr>\n",
       "      <th>avg_songs_dist_day</th>\n",
       "      <td>0.072257</td>\n",
       "      <td>0.081975</td>\n",
       "      <td>0.027784</td>\n",
       "      <td>0.039952</td>\n",
       "      <td>0.022301</td>\n",
       "    </tr>\n",
       "    <tr>\n",
       "      <th>avg_artist_dist_day</th>\n",
       "      <td>0.062363</td>\n",
       "      <td>0.069421</td>\n",
       "      <td>0.022236</td>\n",
       "      <td>0.030008</td>\n",
       "      <td>0.018769</td>\n",
       "    </tr>\n",
       "    <tr>\n",
       "      <th>length_day</th>\n",
       "      <td>19.423092</td>\n",
       "      <td>21.124493</td>\n",
       "      <td>7.859336</td>\n",
       "      <td>11.363015</td>\n",
       "      <td>5.924353</td>\n",
       "    </tr>\n",
       "    <tr>\n",
       "      <th>max_length</th>\n",
       "      <td>1959.000366</td>\n",
       "      <td>967.366089</td>\n",
       "      <td>2015.790527</td>\n",
       "      <td>3024.665771</td>\n",
       "      <td>1400.267334</td>\n",
       "    </tr>\n",
       "    <tr>\n",
       "      <th>min_length</th>\n",
       "      <td>27.010160</td>\n",
       "      <td>22.046890</td>\n",
       "      <td>11.937510</td>\n",
       "      <td>7.836280</td>\n",
       "      <td>38.347301</td>\n",
       "    </tr>\n",
       "    <tr>\n",
       "      <th>length_day_song</th>\n",
       "      <td>0.025423</td>\n",
       "      <td>0.022788</td>\n",
       "      <td>0.005546</td>\n",
       "      <td>0.005556</td>\n",
       "      <td>0.006377</td>\n",
       "    </tr>\n",
       "    <tr>\n",
       "      <th>session_day</th>\n",
       "      <td>0.000500</td>\n",
       "      <td>0.000656</td>\n",
       "      <td>0.000699</td>\n",
       "      <td>0.000575</td>\n",
       "      <td>0.000284</td>\n",
       "    </tr>\n",
       "    <tr>\n",
       "      <th>page_visit_day</th>\n",
       "      <td>0.091745</td>\n",
       "      <td>0.103242</td>\n",
       "      <td>0.038772</td>\n",
       "      <td>0.054470</td>\n",
       "      <td>0.028411</td>\n",
       "    </tr>\n",
       "    <tr>\n",
       "      <th>avg_max_item</th>\n",
       "      <td>130.697168</td>\n",
       "      <td>150.593466</td>\n",
       "      <td>86.749859</td>\n",
       "      <td>124.032049</td>\n",
       "      <td>160.209619</td>\n",
       "    </tr>\n",
       "    <tr>\n",
       "      <th>userId</th>\n",
       "      <td>105.000000</td>\n",
       "      <td>17.000000</td>\n",
       "      <td>30.000000</td>\n",
       "      <td>88.000000</td>\n",
       "      <td>141.000000</td>\n",
       "    </tr>\n",
       "    <tr>\n",
       "      <th>Churn</th>\n",
       "      <td>1.000000</td>\n",
       "      <td>1.000000</td>\n",
       "      <td>0.000000</td>\n",
       "      <td>0.000000</td>\n",
       "      <td>0.000000</td>\n",
       "    </tr>\n",
       "  </tbody>\n",
       "</table>\n",
       "</div>"
      ],
      "text/plain": [
       "                               0           1            2            3  \\\n",
       "avg_songs_day           0.076354    0.086847     0.030952     0.045189   \n",
       "avg_artist_day          0.076354    0.086847     0.030952     0.045189   \n",
       "avg_songs_dist_day      0.072257    0.081975     0.027784     0.039952   \n",
       "avg_artist_dist_day     0.062363    0.069421     0.022236     0.030008   \n",
       "length_day             19.423092   21.124493     7.859336    11.363015   \n",
       "max_length           1959.000366  967.366089  2015.790527  3024.665771   \n",
       "min_length             27.010160   22.046890    11.937510     7.836280   \n",
       "length_day_song         0.025423    0.022788     0.005546     0.005556   \n",
       "session_day             0.000500    0.000656     0.000699     0.000575   \n",
       "page_visit_day          0.091745    0.103242     0.038772     0.054470   \n",
       "avg_max_item          130.697168  150.593466    86.749859   124.032049   \n",
       "userId                105.000000   17.000000    30.000000    88.000000   \n",
       "Churn                   1.000000    1.000000     0.000000     0.000000   \n",
       "\n",
       "                               4  \n",
       "avg_songs_day           0.023951  \n",
       "avg_artist_day          0.023951  \n",
       "avg_songs_dist_day      0.022301  \n",
       "avg_artist_dist_day     0.018769  \n",
       "length_day              5.924353  \n",
       "max_length           1400.267334  \n",
       "min_length             38.347301  \n",
       "length_day_song         0.006377  \n",
       "session_day             0.000284  \n",
       "page_visit_day          0.028411  \n",
       "avg_max_item          160.209619  \n",
       "userId                141.000000  \n",
       "Churn                   0.000000  "
      ]
     },
     "execution_count": 34,
     "metadata": {},
     "output_type": "execute_result"
    }
   ],
   "source": [
    "dfagg.head().T"
   ]
  },
  {
   "cell_type": "code",
   "execution_count": 209,
   "metadata": {},
   "outputs": [],
   "source": [
    "from sklearn.preprocessing import StandardScaler\n",
    "sc = StandardScaler()\n",
    "dfsc = sc.fit_transform(dfagg.dropna().drop(columns =['userId','Churn']))\n",
    "dfsc = pd.DataFrame(dfsc, columns = dfagg.drop(columns =['userId','Churn']).columns)\n",
    "dfsc['Churn'] = dfagg.dropna().Churn"
   ]
  },
  {
   "cell_type": "code",
   "execution_count": 40,
   "metadata": {},
   "outputs": [
    {
     "data": {
      "image/png": "[encoded data removed]",
      "text/plain": [
       "<matplotlib.figure.Figure at 0x7f89f0d43080>"
      ]
     },
     "metadata": {
      "needs_background": "light"
     },
     "output_type": "display_data"
    }
   ],
   "source": [
    "_,axes = plt.subplots(3,4, figsize = (20,15), sharey = False)\n",
    "x = 0\n",
    "y = 0\n",
    "for c in dfagg.drop(columns = ['Churn', 'userId']).columns:\n",
    "    if x == 4 and y == 0:\n",
    "        y = 1\n",
    "        x = 0\n",
    "    elif x == 4 and y == 1:\n",
    "        y = 2\n",
    "        x = 0\n",
    "            \n",
    "    sns.boxplot(data = dfagg, x = 'Churn', y = c, ax = axes[y,x])\n",
    "    plt.title(c)\n",
    "      \n",
    "    x += 1\n",
    "    \n",
    "plt.show()"
   ]
  },
  {
   "cell_type": "code",
   "execution_count": 211,
   "metadata": {
    "scrolled": true
   },
   "outputs": [
    {
     "data": {
      "image/png": "[encoded data removed]",
      "text/plain": [
       "<matplotlib.figure.Figure at 0x7fea5e6f7cf8>"
      ]
     },
     "metadata": {
      "needs_background": "light"
     },
     "output_type": "display_data"
    }
   ],
   "source": [
    "sns.boxplot(data = dfsc, x = 'Churn', y = 'session_day')\n",
    "plt.ylim(-0.2,0.1)\n",
    "plt.show()"
   ]
  },
  {
   "cell_type": "code",
   "execution_count": 212,
   "metadata": {},
   "outputs": [
    {
     "data": {
      "image/png": "[encoded data removed]",
      "text/plain": [
       "<matplotlib.figure.Figure at 0x7fea331d3898>"
      ]
     },
     "metadata": {
      "needs_background": "light"
     },
     "output_type": "display_data"
    }
   ],
   "source": [
    "sns.boxplot(data = dfsc, x = 'Churn', y = 'length_day_song')\n",
    "plt.ylim(-0.15,-0.1)\n",
    "plt.show()"
   ]
  },
  {
   "cell_type": "markdown",
   "metadata": {},
   "source": [
    "# Feature Engineering\n"
   ]
  },
  {
   "cell_type": "code",
   "execution_count": 41,
   "metadata": {},
   "outputs": [],
   "source": [
    "# Get State feature\n",
    "df = df.withColumn('state',F.substring('location',-2,2))\n",
    "\n",
    "# Get device feature\n",
    "df = df.withColumn('device', F.split(F.split(col('userAgent'),' \\(').getItem(1),';').getItem(0))"
   ]
  },
  {
   "cell_type": "markdown",
   "metadata": {},
   "source": [
    "### Create aggregated over time features"
   ]
  },
  {
   "cell_type": "code",
   "execution_count": 42,
   "metadata": {},
   "outputs": [],
   "source": [
    "df.createOrReplaceTempView('df')\n",
    "dfagg = spark.sql('select count(song)/datediff(max(date),min(date)) as avg_songs_day, \\\n",
    "count(artist)/datediff(max(date),min(date)) as avg_artist_day, \\\n",
    "count(distinct song)/datediff(max(date),min(date)) as avg_songs_dist_day, \\\n",
    "count(distinct artist)/datediff(max(date),min(date)) as avg_artist_dist_day, \\\n",
    "sum(length)/datediff(max(date),min(date)) as length_day, \\\n",
    "(sum(length)/count(song))/datediff(max(date),min(date)) as length_day_song, \\\n",
    "count(distinct sessionId)/datediff(max(date),min(date)) as session_day, \\\n",
    "count(page)/datediff(max(date),min(date)) as page_visit_day, \\\n",
    "avg(itemInSession) as avg_max_item, \\\n",
    "userId as id, gender from df \\\n",
    "group by userId, gender')"
   ]
  },
  {
   "cell_type": "markdown",
   "metadata": {},
   "source": [
    "### Join both data frames"
   ]
  },
  {
   "cell_type": "code",
   "execution_count": 43,
   "metadata": {},
   "outputs": [],
   "source": [
    "df_input = spark.sql('select distinct userId, Churn, state, device from df')\n",
    "df_input = df_input.fillna('None')\n",
    "dfagg = dfagg.fillna(-0.9999)"
   ]
  },
  {
   "cell_type": "code",
   "execution_count": 44,
   "metadata": {},
   "outputs": [
    {
     "data": {
      "text/plain": [
       "Row(userId=148, Churn=0, state='FL', device='Windows NT 6.1', avg_songs_day=0.00881057268722467, avg_artist_day=0.00881057268722467, avg_songs_dist_day=0.008456378810351316, avg_artist_dist_day=0.007747991056604609, length_day=2.16494058258514, length_day_song=0.005439549202475226, session_day=0.00026564540765501517, page_visit_day=0.011467026763774821, avg_max_item=45.08687258687259, id=148, gender='M')"
      ]
     },
     "execution_count": 44,
     "metadata": {},
     "output_type": "execute_result"
    }
   ],
   "source": [
    "df_input = df_input.join(dfagg, df_input.userId == dfagg.id, how = 'left')\n",
    "df_input.first()"
   ]
  },
  {
   "cell_type": "markdown",
   "metadata": {},
   "source": [
    "# Modeling\n",
    "Split the full dataset into train, test, and validation sets. Test out several of the machine learning methods you learned. Evaluate the accuracy of the various models, tuning parameters as necessary. Determine your winning model based on test accuracy and report results on the validation set. Since the churned users are a fairly small subset, I suggest using F1 score as the metric to optimize."
   ]
  },
  {
   "cell_type": "markdown",
   "metadata": {},
   "source": [
    "### Prepare train and test data sets"
   ]
  },
  {
   "cell_type": "code",
   "execution_count": 45,
   "metadata": {},
   "outputs": [],
   "source": [
    "def get_dummy(df,categoricalCols,continuousCols,labelCol):\n",
    "\n",
    "    indexers = [ StringIndexer(inputCol=c, outputCol=\"{0}_indexed\".format(c))\n",
    "                 for c in categoricalCols ]\n",
    "\n",
    "    # default setting: dropLast=True\n",
    "    encoders = [ OneHotEncoder(inputCol=indexer.getOutputCol(),\n",
    "                 outputCol=\"{0}_encoded\".format(indexer.getOutputCol()))\n",
    "                 for indexer in indexers ]\n",
    "\n",
    "    assembler = VectorAssembler(inputCols=[encoder.getOutputCol() for encoder in encoders]\n",
    "                                + continuousCols, outputCol=\"features\")\n",
    "\n",
    "    pipeline = Pipeline(stages=indexers + encoders + [assembler])\n",
    "\n",
    "    model=pipeline.fit(df)\n",
    "    data = model.transform(df)\n",
    "\n",
    "    data = data.withColumn('label',col(labelCol))\n",
    "\n",
    "    return data.select('features','label')"
   ]
  },
  {
   "cell_type": "code",
   "execution_count": 46,
   "metadata": {},
   "outputs": [
    {
     "name": "stdout",
     "output_type": "stream",
     "text": [
      "+--------------------+-----+\n",
      "|            features|label|\n",
      "+--------------------+-----+\n",
      "|(58,[3,39,48,49,5...|    0|\n",
      "|(58,[0,38,48,49,5...|    0|\n",
      "|(58,[1,38,48,49,5...|    0|\n",
      "|(58,[11,42,48,49,...|    0|\n",
      "|(58,[15,39,48,49,...|    1|\n",
      "+--------------------+-----+\n",
      "only showing top 5 rows\n",
      "\n"
     ]
    }
   ],
   "source": [
    "catcols = ['state','device', 'gender']\n",
    "\n",
    "num_cols = ['avg_songs_day',\n",
    "           'avg_artist_day', 'avg_songs_dist_day', 'avg_artist_dist_day',\n",
    "           'length_day', 'length_day_song', 'session_day', 'page_visit_day',\n",
    "           'avg_max_item']\n",
    "\n",
    "labelCol = 'Churn'\n",
    "\n",
    "data = get_dummy(df_input.drop('userId','id').dropna(),catcols,num_cols,labelCol)\n",
    "data.show(5)"
   ]
  },
  {
   "cell_type": "code",
   "execution_count": 47,
   "metadata": {},
   "outputs": [],
   "source": [
    "(trainingData, testData) = data.randomSplit([0.7, 0.3])"
   ]
  },
  {
   "cell_type": "code",
   "execution_count": 48,
   "metadata": {},
   "outputs": [
    {
     "data": {
      "text/plain": [
       "146"
      ]
     },
     "execution_count": 48,
     "metadata": {},
     "output_type": "execute_result"
    }
   ],
   "source": [
    "trainingData.count()"
   ]
  },
  {
   "cell_type": "markdown",
   "metadata": {},
   "source": [
    "## RF model"
   ]
  },
  {
   "cell_type": "code",
   "execution_count": 49,
   "metadata": {},
   "outputs": [
    {
     "name": "stdout",
     "output_type": "stream",
     "text": [
      "+--------------------+-----+----------+\n",
      "|            features|label|prediction|\n",
      "+--------------------+-----+----------+\n",
      "|(58,[3,39,48,49,5...|    0|       1.0|\n",
      "|(58,[25,38,48,49,...|    1|       0.0|\n",
      "|(58,[30,40,49,50,...|    1|       0.0|\n",
      "|(58,[11,39,49,50,...|    0|       0.0|\n",
      "|(58,[15,38,49,50,...|    0|       0.0|\n",
      "+--------------------+-----+----------+\n",
      "only showing top 5 rows\n",
      "\n"
     ]
    }
   ],
   "source": [
    "# Initialize Classifier\n",
    "rf = RandomForestClassifier(labelCol=\"label\", featuresCol=\"features\", numTrees=30, maxDepth=10)\n",
    "\n",
    "# Set up the pipeline\n",
    "pipeline = Pipeline(stages=[rf])\n",
    "\n",
    "# Train the model\n",
    "model = pipeline.fit(trainingData)\n",
    "\n",
    "# Predict on test data\n",
    "predictions = model.transform(testData)\n",
    "\n",
    "# Select example rows to display.\n",
    "predictions.select(\"features\",\"label\",\"prediction\").show(5)"
   ]
  },
  {
   "cell_type": "code",
   "execution_count": 50,
   "metadata": {},
   "outputs": [],
   "source": [
    "# Get churn probabilities from prediction\n",
    "proba = predictions.select('probability').toPandas()\n",
    "churn_proba = [x[1] for x in proba.probability]"
   ]
  },
  {
   "cell_type": "markdown",
   "metadata": {},
   "source": [
    "### Evaluate RF model"
   ]
  },
  {
   "cell_type": "code",
   "execution_count": 53,
   "metadata": {},
   "outputs": [
    {
     "name": "stdout",
     "output_type": "stream",
     "text": [
      "Threshold is: 0\n",
      "0.336842105263\n",
      "Threshold is: 1\n",
      "0.351351351351\n",
      "Threshold is: 2\n",
      "0.36\n",
      "Threshold is: 3\n",
      "0.432432432432\n",
      "Threshold is: 4\n",
      "0.206896551724\n",
      "Threshold is: 5\n",
      "0.0\n",
      "Threshold is: 6\n",
      "0.0\n",
      "Threshold is: 7\n",
      "0.0\n",
      "Threshold is: 8\n",
      "0.0\n",
      "Threshold is: 9\n",
      "0.0\n"
     ]
    },
    {
     "name": "stderr",
     "output_type": "stream",
     "text": [
      "/opt/conda/lib/python3.6/site-packages/sklearn/metrics/classification.py:1135: UndefinedMetricWarning: F-score is ill-defined and being set to 0.0 due to no predicted samples.\n",
      "  'precision', 'predicted', average, warn_for)\n"
     ]
    }
   ],
   "source": [
    "y_true = predictions.select('label').toPandas()\n",
    "\n",
    "for i in range(0,10,1):\n",
    "    y_pred = [1 if x > i/10 else 0 for x in churn_proba]\n",
    "    print(f'Threshold is: {i}')\n",
    "    print(f1_score(y_true, y_pred))"
   ]
  },
  {
   "cell_type": "markdown",
   "metadata": {},
   "source": [
    "### Conclusion"
   ]
  },
  {
   "cell_type": "markdown",
   "metadata": {},
   "source": [
    "Using a threshold of > 0.1 for churn prediction, we achieve the best f1 score. In the given case f1 score is quite low but that can be explained by very small data set"
   ]
  },
  {
   "cell_type": "markdown",
   "metadata": {},
   "source": [
    "## Gradient-Boosted Tree Classifier\n"
   ]
  },
  {
   "cell_type": "code",
   "execution_count": 54,
   "metadata": {},
   "outputs": [],
   "source": [
    "from pyspark.ml.classification import GBTClassifier"
   ]
  },
  {
   "cell_type": "code",
   "execution_count": 55,
   "metadata": {},
   "outputs": [
    {
     "name": "stdout",
     "output_type": "stream",
     "text": [
      "+--------------------+-----+----------+\n",
      "|            features|label|prediction|\n",
      "+--------------------+-----+----------+\n",
      "|(58,[3,39,48,49,5...|    0|       0.0|\n",
      "|(58,[25,38,48,49,...|    1|       1.0|\n",
      "|(58,[30,40,49,50,...|    1|       0.0|\n",
      "|(58,[11,39,49,50,...|    0|       0.0|\n",
      "|(58,[15,38,49,50,...|    0|       0.0|\n",
      "+--------------------+-----+----------+\n",
      "only showing top 5 rows\n",
      "\n"
     ]
    }
   ],
   "source": [
    "# Initialize the classifier\n",
    "gbtc = GBTClassifier(labelCol=\"label\", featuresCol=\"features\",maxDepth=10)\n",
    "\n",
    "# Create pipeline\n",
    "pipeline_gbtc = Pipeline(stages=[gbtc])\n",
    "\n",
    "# Train the model\n",
    "model_gbtc = pipeline_gbtc.fit(trainingData)\n",
    "\n",
    "# Predict on test data\n",
    "predictions_gbtc = model_gbtc.transform(testData)\n",
    "\n",
    "# Select example rows to display\n",
    "predictions_gbtc.select(\"features\",\"label\",\"prediction\").show(5)"
   ]
  },
  {
   "cell_type": "code",
   "execution_count": 56,
   "metadata": {},
   "outputs": [],
   "source": [
    "# Get probabilities of churn prediction\n",
    "proba_gbtc = predictions_gbtc.select('probability').toPandas()\n",
    "churn_proba_gbtc = [x[1] for x in proba_gbtc.probability]"
   ]
  },
  {
   "cell_type": "markdown",
   "metadata": {},
   "source": [
    "### Evaluate GBTC model"
   ]
  },
  {
   "cell_type": "code",
   "execution_count": 57,
   "metadata": {},
   "outputs": [
    {
     "name": "stdout",
     "output_type": "stream",
     "text": [
      "Threshold is: 0\n",
      "0.336842105263\n",
      "Threshold is: 1\n",
      "0.260869565217\n",
      "Threshold is: 2\n",
      "0.307692307692\n",
      "Threshold is: 3\n",
      "0.285714285714\n",
      "Threshold is: 4\n",
      "0.3125\n",
      "Threshold is: 5\n",
      "0.258064516129\n",
      "Threshold is: 6\n",
      "0.266666666667\n",
      "Threshold is: 7\n",
      "0.285714285714\n",
      "Threshold is: 8\n",
      "0.166666666667\n",
      "Threshold is: 9\n",
      "0.166666666667\n"
     ]
    }
   ],
   "source": [
    "y_true_gbtc = predictions_gbtc.select('label').toPandas()\n",
    "\n",
    "for i in range(0,10,1):\n",
    "    y_pred_gbtc = [1 if x > i/10 else 0 for x in churn_proba_gbtc]\n",
    "    print(f'Threshold is: {i}')\n",
    "    print(f1_score(y_true, y_pred_gbtc))"
   ]
  },
  {
   "cell_type": "markdown",
   "metadata": {},
   "source": [
    "### Conclusion GBTC"
   ]
  },
  {
   "cell_type": "markdown",
   "metadata": {},
   "source": [
    "GBTC model performs worse than random forest, however, it is a subject to further tuning and training/testing on a larger data set"
   ]
  },
  {
   "cell_type": "markdown",
   "metadata": {},
   "source": [
    "# Reflection and Improvements"
   ]
  },
  {
   "cell_type": "markdown",
   "metadata": {},
   "source": [
    "Further steps to improve the results could be the following:\n",
    "- An important next step here would be to run the same analysis of Churn on a much larger data set\n",
    "- To enable the work with a much larger data set, one could use AWS (EC2 instances or Sagemaker)\n",
    "- Invest considerably more time and effort into feature engineering. For feature generation, one could look into solutions like   FeatureTools for automatic deep synthesis and feature generation\n",
    "- Additionally, one could look into alternative classification methods and algorithms e.g. famous XGBoost, LightGBM, CatBoost to achieve even better f1 score"
   ]
  },
  {
   "cell_type": "code",
   "execution_count": null,
   "metadata": {},
   "outputs": [],
   "source": []
  }
 ],
 "metadata": {
  "kernelspec": {
   "display_name": "Python 3",
   "language": "python",
   "name": "python3"
  },
  "language_info": {
   "codemirror_mode": {
    "name": "ipython",
    "version": 3
   },
   "file_extension": ".py",
   "mimetype": "text/x-python",
   "name": "python",
   "nbconvert_exporter": "python",
   "pygments_lexer": "ipython3",
   "version": "3.6.3"
  }
 },
 "nbformat": 4,
 "nbformat_minor": 2
}
