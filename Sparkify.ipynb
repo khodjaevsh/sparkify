{
 "cells": [
  {
   "cell_type": "markdown",
   "metadata": {},
   "source": [
    "# Sparkify Project "
   ]
  },
  {
   "cell_type": "markdown",
   "metadata": {},
   "source": [
    "## Project Overview\n",
    "\n",
    "The purpose of this project is to understand and predict customer churn for Sparkify (online music streaming service) by analyzing available online customer journey data and using it in the devleopment of ML solution.\n",
    "\n",
    "## Problem Statement\n",
    "\n",
    "Understanding and being able to predict customer churn is highly important for the companies. Knowing, which customer is more likely to Churn, company can react and propose incentives to keep the customer. Customer retention is one of the key areas of marketing. Moreover, retaining customer is usually much cheaper than acquiring a new customer, hence, being able to understand and predict customer churn is crucial for the company to be profitable and successful.\n",
    "\n",
    "## Metrics\n",
    "\n",
    "To measure the performance of the churn prediction, f1 score - a harmonized mean of precision and recall will be used as it is important for us not only to accurately predict customers who are about to churn, but also to avoid false positives as we want to avoid providing unnecessary incentives and marketing investment into customers who are not going to churn in reality.\n",
    "\n",
    "## Definition\n",
    "\n",
    "Churned customer is a customer who cancels the service subscription\n",
    "\n",
    "## Data\n",
    "\n",
    "The data to be analyzed is available on Udacity's workspace. file: mini_sparkify_event_data.json"
   ]
  },
  {
   "cell_type": "code",
   "execution_count": 1,
   "metadata": {},
   "outputs": [],
   "source": [
    "# import libraries\n",
    "import pandas as pd\n",
    "import numpy as np\n",
    "import matplotlib.pyplot as plt\n",
    "import seaborn as sns\n",
    "import pyspark\n",
    "from pyspark.sql import SparkSession\n",
    "import pyspark.sql.functions as F\n",
    "from pyspark.sql.functions import col , column\n",
    "from pyspark.sql.types import DateType\n",
    "from pyspark.ml import Pipeline\n",
    "from pyspark.ml.feature import StringIndexer, OneHotEncoder, VectorAssembler\n",
    "from pyspark.sql.functions import col\n",
    "from pyspark.ml import Pipeline\n",
    "from pyspark.ml.classification import RandomForestClassifier\n",
    "from pyspark.ml.feature import IndexToString, StringIndexer, VectorIndexer\n",
    "from pyspark.ml.evaluation import BinaryClassificationEvaluator\n",
    "from pyspark.ml.tuning import CrossValidator, ParamGridBuilder\n",
    "from sklearn.metrics import f1_score"
   ]
  },
  {
   "cell_type": "code",
   "execution_count": 2,
   "metadata": {},
   "outputs": [],
   "source": [
    "# create a Spark session\n",
    "spark = SparkSession.builder.appName('ps').getOrCreate()"
   ]
  },
  {
   "cell_type": "markdown",
   "metadata": {},
   "source": [
    "# Load and Clean Dataset\n",
    "In this workspace, the mini-dataset file is `mini_sparkify_event_data.json`. Load and clean the dataset, checking for invalid or missing data - for example, records without userids or sessionids. "
   ]
  },
  {
   "cell_type": "code",
   "execution_count": 3,
   "metadata": {},
   "outputs": [],
   "source": [
    "df = spark.read.json('mini_sparkify_event_data.json')"
   ]
  },
  {
   "cell_type": "code",
   "execution_count": 4,
   "metadata": {},
   "outputs": [
    {
     "name": "stdout",
     "output_type": "stream",
     "text": [
      "Number of rows: 286500 Number of attributes: 18\n"
     ]
    }
   ],
   "source": [
    "print(f'Number of rows: {df.count()} Number of attributes: {len(df.columns)}')"
   ]
  },
  {
   "cell_type": "code",
   "execution_count": 5,
   "metadata": {},
   "outputs": [
    {
     "name": "stdout",
     "output_type": "stream",
     "text": [
      "List of attributes: ['artist', 'auth', 'firstName', 'gender', 'itemInSession', 'lastName', 'length', 'level', 'location', 'method', 'page', 'registration', 'sessionId', 'song', 'status', 'ts', 'userAgent', 'userId']\n"
     ]
    }
   ],
   "source": [
    "print(f'List of attributes: {df.columns}')"
   ]
  },
  {
   "cell_type": "markdown",
   "metadata": {},
   "source": [
    "# Data Overview"
   ]
  },
  {
   "cell_type": "markdown",
   "metadata": {},
   "source": [
    "## Missing data"
   ]
  },
  {
   "cell_type": "code",
   "execution_count": 6,
   "metadata": {},
   "outputs": [
    {
     "data": {
      "text/html": [
       "<div>\n",
       "<style scoped>\n",
       "    .dataframe tbody tr th:only-of-type {\n",
       "        vertical-align: middle;\n",
       "    }\n",
       "\n",
       "    .dataframe tbody tr th {\n",
       "        vertical-align: top;\n",
       "    }\n",
       "\n",
       "    .dataframe thead th {\n",
       "        text-align: right;\n",
       "    }\n",
       "</style>\n",
       "<table border=\"1\" class=\"dataframe\">\n",
       "  <thead>\n",
       "    <tr style=\"text-align: right;\">\n",
       "      <th></th>\n",
       "      <th>count</th>\n",
       "    </tr>\n",
       "  </thead>\n",
       "  <tbody>\n",
       "    <tr>\n",
       "      <th>artist</th>\n",
       "      <td>58392</td>\n",
       "    </tr>\n",
       "    <tr>\n",
       "      <th>length</th>\n",
       "      <td>58392</td>\n",
       "    </tr>\n",
       "    <tr>\n",
       "      <th>song</th>\n",
       "      <td>58392</td>\n",
       "    </tr>\n",
       "    <tr>\n",
       "      <th>firstName</th>\n",
       "      <td>8346</td>\n",
       "    </tr>\n",
       "    <tr>\n",
       "      <th>gender</th>\n",
       "      <td>8346</td>\n",
       "    </tr>\n",
       "    <tr>\n",
       "      <th>userAgent</th>\n",
       "      <td>8346</td>\n",
       "    </tr>\n",
       "    <tr>\n",
       "      <th>lastName</th>\n",
       "      <td>8346</td>\n",
       "    </tr>\n",
       "    <tr>\n",
       "      <th>location</th>\n",
       "      <td>8346</td>\n",
       "    </tr>\n",
       "    <tr>\n",
       "      <th>registration</th>\n",
       "      <td>8346</td>\n",
       "    </tr>\n",
       "    <tr>\n",
       "      <th>sessionId</th>\n",
       "      <td>0</td>\n",
       "    </tr>\n",
       "    <tr>\n",
       "      <th>ts</th>\n",
       "      <td>0</td>\n",
       "    </tr>\n",
       "    <tr>\n",
       "      <th>status</th>\n",
       "      <td>0</td>\n",
       "    </tr>\n",
       "    <tr>\n",
       "      <th>method</th>\n",
       "      <td>0</td>\n",
       "    </tr>\n",
       "    <tr>\n",
       "      <th>page</th>\n",
       "      <td>0</td>\n",
       "    </tr>\n",
       "    <tr>\n",
       "      <th>auth</th>\n",
       "      <td>0</td>\n",
       "    </tr>\n",
       "    <tr>\n",
       "      <th>level</th>\n",
       "      <td>0</td>\n",
       "    </tr>\n",
       "    <tr>\n",
       "      <th>itemInSession</th>\n",
       "      <td>0</td>\n",
       "    </tr>\n",
       "    <tr>\n",
       "      <th>userId</th>\n",
       "      <td>0</td>\n",
       "    </tr>\n",
       "  </tbody>\n",
       "</table>\n",
       "</div>"
      ],
      "text/plain": [
       "               count\n",
       "artist         58392\n",
       "length         58392\n",
       "song           58392\n",
       "firstName       8346\n",
       "gender          8346\n",
       "userAgent       8346\n",
       "lastName        8346\n",
       "location        8346\n",
       "registration    8346\n",
       "sessionId          0\n",
       "ts                 0\n",
       "status             0\n",
       "method             0\n",
       "page               0\n",
       "auth               0\n",
       "level              0\n",
       "itemInSession      0\n",
       "userId             0"
      ]
     },
     "execution_count": 6,
     "metadata": {},
     "output_type": "execute_result"
    }
   ],
   "source": [
    "def count_missings(spark_df,sort=True):\n",
    "    \"\"\"\n",
    "    Counts number of nulls and nans in each column\n",
    "    Input:\n",
    "    - spark_df - pyspark data frame\n",
    "    Output:\n",
    "    - data frame with missing values\n",
    "    \"\"\"\n",
    "    df = spark_df.select([F.count(F.when(F.isnan(c) | F.isnull(c), c)).alias(c) for (c,c_type) in spark_df.dtypes]).toPandas()\n",
    "\n",
    "    if len(df) == 0:\n",
    "        print(\"There are no any missing values!\")\n",
    "        return None\n",
    "\n",
    "    if sort:\n",
    "        return df.rename(index={0: 'count'}).T.sort_values(\"count\",ascending=False)\n",
    "\n",
    "    return df\n",
    "\n",
    "count_missings(df)"
   ]
  },
  {
   "cell_type": "code",
   "execution_count": 7,
   "metadata": {},
   "outputs": [
    {
     "data": {
      "text/html": [
       "<div>\n",
       "<style scoped>\n",
       "    .dataframe tbody tr th:only-of-type {\n",
       "        vertical-align: middle;\n",
       "    }\n",
       "\n",
       "    .dataframe tbody tr th {\n",
       "        vertical-align: top;\n",
       "    }\n",
       "\n",
       "    .dataframe thead th {\n",
       "        text-align: right;\n",
       "    }\n",
       "</style>\n",
       "<table border=\"1\" class=\"dataframe\">\n",
       "  <thead>\n",
       "    <tr style=\"text-align: right;\">\n",
       "      <th></th>\n",
       "      <th>auth</th>\n",
       "      <th>count</th>\n",
       "    </tr>\n",
       "  </thead>\n",
       "  <tbody>\n",
       "    <tr>\n",
       "      <th>0</th>\n",
       "      <td>Logged Out</td>\n",
       "      <td>8249</td>\n",
       "    </tr>\n",
       "    <tr>\n",
       "      <th>1</th>\n",
       "      <td>Guest</td>\n",
       "      <td>97</td>\n",
       "    </tr>\n",
       "  </tbody>\n",
       "</table>\n",
       "</div>"
      ],
      "text/plain": [
       "         auth  count\n",
       "0  Logged Out   8249\n",
       "1       Guest     97"
      ]
     },
     "execution_count": 7,
     "metadata": {},
     "output_type": "execute_result"
    }
   ],
   "source": [
    "table = df.createOrReplaceTempView('table')\n",
    "spark.sql(\"select distinct auth, count(1) as count from table where userAgent is null group by auth\").toPandas()"
   ]
  },
  {
   "cell_type": "markdown",
   "metadata": {},
   "source": [
    "Looking at the missing data, I see that the most important information is there, no missing userIds or session ids. The other none points can be explained by the fact that most of the entries miss at the point when user logs out, which is expected, hence, normal and doesn't require any actions"
   ]
  },
  {
   "cell_type": "markdown",
   "metadata": {},
   "source": [
    "## Data Types"
   ]
  },
  {
   "cell_type": "code",
   "execution_count": 8,
   "metadata": {},
   "outputs": [
    {
     "data": {
      "text/plain": [
       "Row(artist='Martha Tilston', auth='Logged In', firstName='Colin', gender='M', itemInSession=50, lastName='Freeman', length=277.89016, level='paid', location='Bakersfield, CA', method='PUT', page='NextSong', registration=1538173362000, sessionId=29, song='Rockpools', status=200, ts=1538352117000, userAgent='Mozilla/5.0 (Windows NT 6.1; WOW64; rv:31.0) Gecko/20100101 Firefox/31.0', userId='30')"
      ]
     },
     "execution_count": 8,
     "metadata": {},
     "output_type": "execute_result"
    }
   ],
   "source": [
    "df.first()"
   ]
  },
  {
   "cell_type": "code",
   "execution_count": 9,
   "metadata": {
    "scrolled": true
   },
   "outputs": [
    {
     "data": {
      "text/plain": [
       "DataFrame[summary: string, artist: string, auth: string, firstName: string, gender: string, itemInSession: string, lastName: string, length: string, level: string, location: string, method: string, page: string, registration: string, sessionId: string, song: string, status: string, ts: string, userAgent: string, userId: string]"
      ]
     },
     "execution_count": 9,
     "metadata": {},
     "output_type": "execute_result"
    }
   ],
   "source": [
    "df.describe()"
   ]
  },
  {
   "cell_type": "markdown",
   "metadata": {},
   "source": [
    "All of the variables are of type string, hence some variables have inapropriate datatype that have to be changed."
   ]
  },
  {
   "cell_type": "code",
   "execution_count": 10,
   "metadata": {},
   "outputs": [],
   "source": [
    "# Select columns per type to be transformed into\n",
    "integers = [\"itemInSession\",\"registration\",\"sessionId\",\"userId\",\"status\", \"ts\"]\n",
    "floats = [\"length\"]\n",
    "\n",
    "# Run the type transformation\n",
    "\n",
    "for c in integers:\n",
    "    df = df.withColumn(c, col(c).cast('integer'))\n",
    "    \n",
    "for c in floats:\n",
    "    df = df.withColumn(c, col(c).cast('float'))"
   ]
  },
  {
   "cell_type": "markdown",
   "metadata": {},
   "source": [
    "There is also ts column which seems to be a data frame, which I want to cast into datetime format"
   ]
  },
  {
   "cell_type": "code",
   "execution_count": 11,
   "metadata": {},
   "outputs": [],
   "source": [
    "# Cast ts into date type\n",
    "df = df.withColumn('date',  F.from_unixtime('ts').cast(DateType()))"
   ]
  },
  {
   "cell_type": "code",
   "execution_count": 12,
   "metadata": {},
   "outputs": [
    {
     "name": "stdout",
     "output_type": "stream",
     "text": [
      "root\n",
      " |-- artist: string (nullable = true)\n",
      " |-- auth: string (nullable = true)\n",
      " |-- firstName: string (nullable = true)\n",
      " |-- gender: string (nullable = true)\n",
      " |-- itemInSession: integer (nullable = true)\n",
      " |-- lastName: string (nullable = true)\n",
      " |-- length: float (nullable = true)\n",
      " |-- level: string (nullable = true)\n",
      " |-- location: string (nullable = true)\n",
      " |-- method: string (nullable = true)\n",
      " |-- page: string (nullable = true)\n",
      " |-- registration: integer (nullable = true)\n",
      " |-- sessionId: integer (nullable = true)\n",
      " |-- song: string (nullable = true)\n",
      " |-- status: integer (nullable = true)\n",
      " |-- ts: integer (nullable = true)\n",
      " |-- userAgent: string (nullable = true)\n",
      " |-- userId: integer (nullable = true)\n",
      " |-- date: date (nullable = true)\n",
      "\n"
     ]
    }
   ],
   "source": [
    "df.printSchema()"
   ]
  },
  {
   "cell_type": "markdown",
   "metadata": {},
   "source": [
    "# Exploratory Data Analysis"
   ]
  },
  {
   "cell_type": "markdown",
   "metadata": {},
   "source": [
    "### Summary statistics"
   ]
  },
  {
   "cell_type": "code",
   "execution_count": 23,
   "metadata": {},
   "outputs": [
    {
     "data": {
      "text/html": [
       "<div>\n",
       "<style scoped>\n",
       "    .dataframe tbody tr th:only-of-type {\n",
       "        vertical-align: middle;\n",
       "    }\n",
       "\n",
       "    .dataframe tbody tr th {\n",
       "        vertical-align: top;\n",
       "    }\n",
       "\n",
       "    .dataframe thead th {\n",
       "        text-align: right;\n",
       "    }\n",
       "</style>\n",
       "<table border=\"1\" class=\"dataframe\">\n",
       "  <thead>\n",
       "    <tr style=\"text-align: right;\">\n",
       "      <th></th>\n",
       "      <th>summary</th>\n",
       "      <th>itemInSession</th>\n",
       "      <th>length</th>\n",
       "    </tr>\n",
       "  </thead>\n",
       "  <tbody>\n",
       "    <tr>\n",
       "      <th>0</th>\n",
       "      <td>count</td>\n",
       "      <td>286500</td>\n",
       "      <td>228108</td>\n",
       "    </tr>\n",
       "    <tr>\n",
       "      <th>1</th>\n",
       "      <td>mean</td>\n",
       "      <td>114.41421291448516</td>\n",
       "      <td>249.11718195785375</td>\n",
       "    </tr>\n",
       "    <tr>\n",
       "      <th>2</th>\n",
       "      <td>stddev</td>\n",
       "      <td>129.76726201140994</td>\n",
       "      <td>99.23517961294256</td>\n",
       "    </tr>\n",
       "    <tr>\n",
       "      <th>3</th>\n",
       "      <td>min</td>\n",
       "      <td>0</td>\n",
       "      <td>0.78322</td>\n",
       "    </tr>\n",
       "    <tr>\n",
       "      <th>4</th>\n",
       "      <td>max</td>\n",
       "      <td>1321</td>\n",
       "      <td>3024.6658</td>\n",
       "    </tr>\n",
       "  </tbody>\n",
       "</table>\n",
       "</div>"
      ],
      "text/plain": [
       "  summary       itemInSession              length\n",
       "0   count              286500              228108\n",
       "1    mean  114.41421291448516  249.11718195785375\n",
       "2  stddev  129.76726201140994   99.23517961294256\n",
       "3     min                   0             0.78322\n",
       "4     max                1321           3024.6658"
      ]
     },
     "execution_count": 23,
     "metadata": {},
     "output_type": "execute_result"
    }
   ],
   "source": [
    "stats = df.select(['itemInSession', 'length' ]).describe().toPandas()\n",
    "stats"
   ]
  },
  {
   "cell_type": "markdown",
   "metadata": {},
   "source": [
    "### Identifying Churned Customers"
   ]
  },
  {
   "cell_type": "markdown",
   "metadata": {},
   "source": [
    "As mentioned in the definition part of the introduction, Churned customer is a customer who cancelled the subscription. Churn flag will be added to the data set"
   ]
  },
  {
   "cell_type": "code",
   "execution_count": 32,
   "metadata": {},
   "outputs": [
    {
     "data": {
      "text/html": [
       "<div>\n",
       "<style scoped>\n",
       "    .dataframe tbody tr th:only-of-type {\n",
       "        vertical-align: middle;\n",
       "    }\n",
       "\n",
       "    .dataframe tbody tr th {\n",
       "        vertical-align: top;\n",
       "    }\n",
       "\n",
       "    .dataframe thead th {\n",
       "        text-align: right;\n",
       "    }\n",
       "</style>\n",
       "<table border=\"1\" class=\"dataframe\">\n",
       "  <thead>\n",
       "    <tr style=\"text-align: right;\">\n",
       "      <th></th>\n",
       "      <th>page</th>\n",
       "      <th>userId_count</th>\n",
       "    </tr>\n",
       "  </thead>\n",
       "  <tbody>\n",
       "    <tr>\n",
       "      <th>0</th>\n",
       "      <td>Cancel</td>\n",
       "      <td>52</td>\n",
       "    </tr>\n",
       "    <tr>\n",
       "      <th>1</th>\n",
       "      <td>Submit Downgrade</td>\n",
       "      <td>49</td>\n",
       "    </tr>\n",
       "    <tr>\n",
       "      <th>2</th>\n",
       "      <td>Thumbs Down</td>\n",
       "      <td>203</td>\n",
       "    </tr>\n",
       "    <tr>\n",
       "      <th>3</th>\n",
       "      <td>Home</td>\n",
       "      <td>223</td>\n",
       "    </tr>\n",
       "    <tr>\n",
       "      <th>4</th>\n",
       "      <td>Downgrade</td>\n",
       "      <td>154</td>\n",
       "    </tr>\n",
       "    <tr>\n",
       "      <th>5</th>\n",
       "      <td>Roll Advert</td>\n",
       "      <td>207</td>\n",
       "    </tr>\n",
       "    <tr>\n",
       "      <th>6</th>\n",
       "      <td>Logout</td>\n",
       "      <td>213</td>\n",
       "    </tr>\n",
       "    <tr>\n",
       "      <th>7</th>\n",
       "      <td>Save Settings</td>\n",
       "      <td>132</td>\n",
       "    </tr>\n",
       "    <tr>\n",
       "      <th>8</th>\n",
       "      <td>Cancellation Confirmation</td>\n",
       "      <td>52</td>\n",
       "    </tr>\n",
       "    <tr>\n",
       "      <th>9</th>\n",
       "      <td>About</td>\n",
       "      <td>155</td>\n",
       "    </tr>\n",
       "    <tr>\n",
       "      <th>10</th>\n",
       "      <td>Submit Registration</td>\n",
       "      <td>0</td>\n",
       "    </tr>\n",
       "    <tr>\n",
       "      <th>11</th>\n",
       "      <td>Settings</td>\n",
       "      <td>195</td>\n",
       "    </tr>\n",
       "    <tr>\n",
       "      <th>12</th>\n",
       "      <td>Login</td>\n",
       "      <td>0</td>\n",
       "    </tr>\n",
       "    <tr>\n",
       "      <th>13</th>\n",
       "      <td>Register</td>\n",
       "      <td>0</td>\n",
       "    </tr>\n",
       "    <tr>\n",
       "      <th>14</th>\n",
       "      <td>Add to Playlist</td>\n",
       "      <td>215</td>\n",
       "    </tr>\n",
       "    <tr>\n",
       "      <th>15</th>\n",
       "      <td>Add Friend</td>\n",
       "      <td>206</td>\n",
       "    </tr>\n",
       "    <tr>\n",
       "      <th>16</th>\n",
       "      <td>NextSong</td>\n",
       "      <td>225</td>\n",
       "    </tr>\n",
       "    <tr>\n",
       "      <th>17</th>\n",
       "      <td>Thumbs Up</td>\n",
       "      <td>220</td>\n",
       "    </tr>\n",
       "    <tr>\n",
       "      <th>18</th>\n",
       "      <td>Help</td>\n",
       "      <td>192</td>\n",
       "    </tr>\n",
       "    <tr>\n",
       "      <th>19</th>\n",
       "      <td>Upgrade</td>\n",
       "      <td>168</td>\n",
       "    </tr>\n",
       "    <tr>\n",
       "      <th>20</th>\n",
       "      <td>Error</td>\n",
       "      <td>117</td>\n",
       "    </tr>\n",
       "    <tr>\n",
       "      <th>21</th>\n",
       "      <td>Submit Upgrade</td>\n",
       "      <td>131</td>\n",
       "    </tr>\n",
       "  </tbody>\n",
       "</table>\n",
       "</div>"
      ],
      "text/plain": [
       "                         page  userId_count\n",
       "0                      Cancel            52\n",
       "1            Submit Downgrade            49\n",
       "2                 Thumbs Down           203\n",
       "3                        Home           223\n",
       "4                   Downgrade           154\n",
       "5                 Roll Advert           207\n",
       "6                      Logout           213\n",
       "7               Save Settings           132\n",
       "8   Cancellation Confirmation            52\n",
       "9                       About           155\n",
       "10        Submit Registration             0\n",
       "11                   Settings           195\n",
       "12                      Login             0\n",
       "13                   Register             0\n",
       "14            Add to Playlist           215\n",
       "15                 Add Friend           206\n",
       "16                   NextSong           225\n",
       "17                  Thumbs Up           220\n",
       "18                       Help           192\n",
       "19                    Upgrade           168\n",
       "20                      Error           117\n",
       "21             Submit Upgrade           131"
      ]
     },
     "execution_count": 32,
     "metadata": {},
     "output_type": "execute_result"
    }
   ],
   "source": [
    "pages = spark.sql(\"Select page, count(distinct userId) as userId_count from df group by page\").toPandas()\n",
    "pages"
   ]
  },
  {
   "cell_type": "code",
   "execution_count": 33,
   "metadata": {},
   "outputs": [
    {
     "name": "stdout",
     "output_type": "stream",
     "text": [
      "+------+-----+\n",
      "|    id|Churn|\n",
      "+------+-----+\n",
      "|200001|    1|\n",
      "|    53|    1|\n",
      "|100003|    1|\n",
      "|200021|    1|\n",
      "|100007|    1|\n",
      "+------+-----+\n",
      "only showing top 5 rows\n",
      "\n"
     ]
    }
   ],
   "source": [
    "df.createOrReplaceTempView('df')\n",
    "churned = spark.sql(\"Select distinct userId as id from df where page = 'Cancellation Confirmation'\")\n",
    "churned = churned.withColumn('Churn', F.lit(1))\n",
    "churned.show(5)"
   ]
  },
  {
   "cell_type": "code",
   "execution_count": 34,
   "metadata": {},
   "outputs": [
    {
     "data": {
      "text/plain": [
       "Row(artist='Martha Tilston', auth='Logged In', firstName='Colin', gender='M', itemInSession=50, lastName='Freeman', length=277.8901672363281, level='paid', location='Bakersfield, CA', method='PUT', page='NextSong', registration=575070032, sessionId=29, song='Rockpools', status=200, ts=753825032, userAgent='Mozilla/5.0 (Windows NT 6.1; WOW64; rv:31.0) Gecko/20100101 Firefox/31.0', userId=30, date=datetime.date(1993, 11, 20), id=None, Churn=None)"
      ]
     },
     "execution_count": 34,
     "metadata": {},
     "output_type": "execute_result"
    }
   ],
   "source": [
    "df = df.join(churned, df.userId == churned.id, how = 'left')\n",
    "df.first()"
   ]
  },
  {
   "cell_type": "code",
   "execution_count": 35,
   "metadata": {},
   "outputs": [
    {
     "data": {
      "text/plain": [
       "Row(artist='Martha Tilston', auth='Logged In', firstName='Colin', gender='M', itemInSession=50, lastName='Freeman', length=277.8901672363281, level='paid', location='Bakersfield, CA', method='PUT', page='NextSong', registration=575070032, sessionId=29, song='Rockpools', status=200, ts=753825032, userAgent='Mozilla/5.0 (Windows NT 6.1; WOW64; rv:31.0) Gecko/20100101 Firefox/31.0', userId=30, date=datetime.date(1993, 11, 20), Churn=0)"
      ]
     },
     "execution_count": 35,
     "metadata": {},
     "output_type": "execute_result"
    }
   ],
   "source": [
    "df = df.fillna(0, subset = 'Churn')\n",
    "df = df.drop('id')\n",
    "df.first()"
   ]
  },
  {
   "cell_type": "markdown",
   "metadata": {},
   "source": [
    "### Summary statistics per churned and non-churned customers"
   ]
  },
  {
   "cell_type": "code",
   "execution_count": 37,
   "metadata": {},
   "outputs": [
    {
     "data": {
      "text/html": [
       "<div>\n",
       "<style scoped>\n",
       "    .dataframe tbody tr th:only-of-type {\n",
       "        vertical-align: middle;\n",
       "    }\n",
       "\n",
       "    .dataframe tbody tr th {\n",
       "        vertical-align: top;\n",
       "    }\n",
       "\n",
       "    .dataframe thead th {\n",
       "        text-align: right;\n",
       "    }\n",
       "</style>\n",
       "<table border=\"1\" class=\"dataframe\">\n",
       "  <thead>\n",
       "    <tr style=\"text-align: right;\">\n",
       "      <th></th>\n",
       "      <th>Churn</th>\n",
       "      <th>itemInSession_mean</th>\n",
       "      <th>itemInSession_stdev</th>\n",
       "      <th>itemInSession_min</th>\n",
       "      <th>itemInSession_max</th>\n",
       "      <th>length_mean</th>\n",
       "      <th>length_stdev</th>\n",
       "      <th>length_min</th>\n",
       "      <th>length_max</th>\n",
       "    </tr>\n",
       "  </thead>\n",
       "  <tbody>\n",
       "    <tr>\n",
       "      <th>0</th>\n",
       "      <td>1</td>\n",
       "      <td>109.23</td>\n",
       "      <td>122.72</td>\n",
       "      <td>0</td>\n",
       "      <td>889</td>\n",
       "      <td>248.63</td>\n",
       "      <td>102.38</td>\n",
       "      <td>4.05</td>\n",
       "      <td>3,024.67</td>\n",
       "    </tr>\n",
       "    <tr>\n",
       "      <th>1</th>\n",
       "      <td>0</td>\n",
       "      <td>115.38</td>\n",
       "      <td>131.01</td>\n",
       "      <td>0</td>\n",
       "      <td>1321</td>\n",
       "      <td>249.21</td>\n",
       "      <td>98.63</td>\n",
       "      <td>0.78</td>\n",
       "      <td>3,024.67</td>\n",
       "    </tr>\n",
       "  </tbody>\n",
       "</table>\n",
       "</div>"
      ],
      "text/plain": [
       "   Churn  itemInSession_mean  itemInSession_stdev  itemInSession_min  \\\n",
       "0      1              109.23               122.72                  0   \n",
       "1      0              115.38               131.01                  0   \n",
       "\n",
       "   itemInSession_max  length_mean  length_stdev  length_min  length_max  \n",
       "0                889       248.63        102.38        4.05    3,024.67  \n",
       "1               1321       249.21         98.63        0.78    3,024.67  "
      ]
     },
     "execution_count": 37,
     "metadata": {},
     "output_type": "execute_result"
    }
   ],
   "source": [
    "df.createOrReplaceTempView('df')\n",
    "stats_churn = spark.sql(\"Select Churn, mean(itemInSession) as itemInSession_mean, \\\n",
    "std(itemInSession) as itemInSession_stdev, \\\n",
    "min(itemInSession) as itemInSession_min, \\\n",
    "max(itemInSession) as itemInSession_max, \\\n",
    "mean(length) as length_mean, \\\n",
    "std(length) as length_stdev, \\\n",
    "min(length) as length_min, \\\n",
    "max(length) as length_max from df group by Churn\").toPandas()\n",
    "stats_churn"
   ]
  },
  {
   "cell_type": "markdown",
   "metadata": {},
   "source": [
    "Here, we can observe that churned customers, usually, have fewer items per session on average than non-churned customers, as well as lower maximum amount of sessions per session. Those insights could indicate that churning customers are less active when it comes to app usage comparing to non-churned users, however, the difference is not drastic. For the rest the numbers are pretty much identical, except for the fact that minimum length is 4 seconds higher for churned vs non-churned users."
   ]
  },
  {
   "cell_type": "markdown",
   "metadata": {},
   "source": [
    "## Churn analysis and feature engineering"
   ]
  },
  {
   "cell_type": "markdown",
   "metadata": {},
   "source": [
    "### Gender"
   ]
  },
  {
   "cell_type": "code",
   "execution_count": 38,
   "metadata": {},
   "outputs": [
    {
     "data": {
      "image/png": "[encoded data removed]",
      "text/plain": [
       "<matplotlib.figure.Figure at 0x7fe32a9f2470>"
      ]
     },
     "metadata": {
      "needs_background": "light"
     },
     "output_type": "display_data"
    }
   ],
   "source": [
    "df.createOrReplaceTempView('df')\n",
    "gender = spark.sql('select count(distinct userId) as count, gender, Churn from df group by gender, Churn').toPandas().dropna()\n",
    "sns.barplot(data = gender, x ='gender', y = 'count', hue = 'Churn')\n",
    "plt.title('Churn by gender')\n",
    "plt.ylabel('Count of unique user Ids')\n",
    "plt.show()"
   ]
  },
  {
   "cell_type": "markdown",
   "metadata": {},
   "source": [
    "Male users have a slightly higher chance to churn than women"
   ]
  },
  {
   "cell_type": "markdown",
   "metadata": {},
   "source": [
    "### State"
   ]
  },
  {
   "cell_type": "code",
   "execution_count": 39,
   "metadata": {},
   "outputs": [
    {
     "data": {
      "text/plain": [
       "Row(artist='Martha Tilston', auth='Logged In', firstName='Colin', gender='M', itemInSession=50, lastName='Freeman', length=277.8901672363281, level='paid', location='Bakersfield, CA', method='PUT', page='NextSong', registration=575070032, sessionId=29, song='Rockpools', status=200, ts=753825032, userAgent='Mozilla/5.0 (Windows NT 6.1; WOW64; rv:31.0) Gecko/20100101 Firefox/31.0', userId=30, date=datetime.date(1993, 11, 20), Churn=0, State='CA')"
      ]
     },
     "execution_count": 39,
     "metadata": {},
     "output_type": "execute_result"
    }
   ],
   "source": [
    "df = df.withColumn('State',F.substring('location',-2,2))\n",
    "df.first()"
   ]
  },
  {
   "cell_type": "code",
   "execution_count": 40,
   "metadata": {},
   "outputs": [
    {
     "data": {
      "image/png": "[encoded data removed]",
      "text/plain": [
       "<matplotlib.figure.Figure at 0x7fe32aa95e80>"
      ]
     },
     "metadata": {
      "needs_background": "light"
     },
     "output_type": "display_data"
    }
   ],
   "source": [
    "df.createOrReplaceTempView('df')\n",
    "location = spark.sql('select State, Churn, count(distinct userId) as count from df \\\n",
    "group by State, Churn').toPandas().dropna()\n",
    "plt.figure(figsize = (15,5))\n",
    "sns.barplot(data = location, x ='State', y = 'count', hue = 'Churn')\n",
    "plt.ylabel('Count of unique user Ids')\n",
    "plt.title('Churn by State')\n",
    "plt.show()"
   ]
  },
  {
   "cell_type": "markdown",
   "metadata": {},
   "source": [
    "Some states have very high churn levels"
   ]
  },
  {
   "cell_type": "markdown",
   "metadata": {},
   "source": [
    "### Device"
   ]
  },
  {
   "cell_type": "code",
   "execution_count": 41,
   "metadata": {},
   "outputs": [
    {
     "data": {
      "text/plain": [
       "Row(artist='Martha Tilston', auth='Logged In', firstName='Colin', gender='M', itemInSession=50, lastName='Freeman', length=277.8901672363281, level='paid', location='Bakersfield, CA', method='PUT', page='NextSong', registration=575070032, sessionId=29, song='Rockpools', status=200, ts=753825032, userAgent='Mozilla/5.0 (Windows NT 6.1; WOW64; rv:31.0) Gecko/20100101 Firefox/31.0', userId=30, date=datetime.date(1993, 11, 20), Churn=0, State='CA', device='Windows NT 6.1')"
      ]
     },
     "execution_count": 41,
     "metadata": {},
     "output_type": "execute_result"
    }
   ],
   "source": [
    "df = df.withColumn('device', F.split(F.split(col('userAgent'),' \\(').getItem(1),';').getItem(0))\n",
    "df.first()"
   ]
  },
  {
   "cell_type": "code",
   "execution_count": 42,
   "metadata": {},
   "outputs": [
    {
     "data": {
      "image/png": "[encoded data removed]",
      "text/plain": [
       "<matplotlib.figure.Figure at 0x7fe328791550>"
      ]
     },
     "metadata": {
      "needs_background": "light"
     },
     "output_type": "display_data"
    }
   ],
   "source": [
    "df.createOrReplaceTempView('df')\n",
    "xx = spark.sql('select device, Churn, count(distinct userId) as count from df \\\n",
    "group by device, Churn').toPandas()\n",
    "plt.figure(figsize = (15,5))\n",
    "sns.barplot(data = xx, x ='device', y = 'count', hue = 'Churn')\n",
    "plt.ylabel('Count of unique user Ids')\n",
    "plt.title('Churn by device')\n",
    "plt.xticks(rotation = 60)\n",
    "plt.show()"
   ]
  },
  {
   "cell_type": "markdown",
   "metadata": {},
   "source": [
    "X11 has the highest rate of churn followed by iPhone and Windows NT 6.3 device"
   ]
  },
  {
   "cell_type": "markdown",
   "metadata": {},
   "source": [
    "### Pages"
   ]
  },
  {
   "cell_type": "code",
   "execution_count": 43,
   "metadata": {},
   "outputs": [
    {
     "data": {
      "image/png": "[encoded data removed]",
      "text/plain": [
       "<matplotlib.figure.Figure at 0x7fe328791630>"
      ]
     },
     "metadata": {
      "needs_background": "light"
     },
     "output_type": "display_data"
    }
   ],
   "source": [
    "pages = spark.sql('select page,Churn, count(distinct userId) as count from df group by page, Churn').toPandas()\n",
    "plt.figure(figsize = (15,8))\n",
    "sns.barplot(data = pages, x = 'page', y ='count', hue = 'Churn')\n",
    "plt.ylabel('Count of unique user Ids')\n",
    "plt.title('Churn by page visit')\n",
    "plt.xticks(rotation = 60)\n",
    "plt.show()"
   ]
  },
  {
   "cell_type": "markdown",
   "metadata": {},
   "source": [
    "### Usage stats per userId"
   ]
  },
  {
   "cell_type": "code",
   "execution_count": 54,
   "metadata": {},
   "outputs": [],
   "source": [
    "df.createOrReplaceTempView('df')\n",
    "dfagg = spark.sql('select count(song)/datediff(max(date),min(date)) as avg_songs_day, \\\n",
    "count(artist)/datediff(max(date),min(date)) as avg_artist_day, \\\n",
    "count(distinct song)/datediff(max(date),min(date)) as avg_songs_dist_day, \\\n",
    "count(distinct artist)/datediff(max(date),min(date)) as avg_artist_dist_day, \\\n",
    "sum(length)/datediff(max(date),min(date)) as length_day, \\\n",
    "max(length) as max_length, \\\n",
    "min(length) as min_length, \\\n",
    "(sum(length)/count(song))/datediff(max(date),min(date)) as length_day_song, \\\n",
    "count(distinct sessionId)/datediff(max(date),min(date)) as session_day, \\\n",
    "count(page)/datediff(max(date),min(date)) as page_visit_day, \\\n",
    "mean(itemInSession) as avg_item_session, \\\n",
    "max(itemInSession) as max_item_session, \\\n",
    "userId, Churn from df \\\n",
    "group by userId, Churn').toPandas()"
   ]
  },
  {
   "cell_type": "code",
   "execution_count": 55,
   "metadata": {},
   "outputs": [
    {
     "data": {
      "text/html": [
       "<div>\n",
       "<style scoped>\n",
       "    .dataframe tbody tr th:only-of-type {\n",
       "        vertical-align: middle;\n",
       "    }\n",
       "\n",
       "    .dataframe tbody tr th {\n",
       "        vertical-align: top;\n",
       "    }\n",
       "\n",
       "    .dataframe thead th {\n",
       "        text-align: right;\n",
       "    }\n",
       "</style>\n",
       "<table border=\"1\" class=\"dataframe\">\n",
       "  <thead>\n",
       "    <tr style=\"text-align: right;\">\n",
       "      <th></th>\n",
       "      <th>0</th>\n",
       "      <th>1</th>\n",
       "      <th>2</th>\n",
       "      <th>3</th>\n",
       "      <th>4</th>\n",
       "    </tr>\n",
       "  </thead>\n",
       "  <tbody>\n",
       "    <tr>\n",
       "      <th>avg_songs_day</th>\n",
       "      <td>0.08</td>\n",
       "      <td>0.09</td>\n",
       "      <td>0.03</td>\n",
       "      <td>0.05</td>\n",
       "      <td>0.02</td>\n",
       "    </tr>\n",
       "    <tr>\n",
       "      <th>avg_artist_day</th>\n",
       "      <td>0.08</td>\n",
       "      <td>0.09</td>\n",
       "      <td>0.03</td>\n",
       "      <td>0.05</td>\n",
       "      <td>0.02</td>\n",
       "    </tr>\n",
       "    <tr>\n",
       "      <th>avg_songs_dist_day</th>\n",
       "      <td>0.07</td>\n",
       "      <td>0.08</td>\n",
       "      <td>0.03</td>\n",
       "      <td>0.04</td>\n",
       "      <td>0.02</td>\n",
       "    </tr>\n",
       "    <tr>\n",
       "      <th>avg_artist_dist_day</th>\n",
       "      <td>0.06</td>\n",
       "      <td>0.07</td>\n",
       "      <td>0.02</td>\n",
       "      <td>0.03</td>\n",
       "      <td>0.02</td>\n",
       "    </tr>\n",
       "    <tr>\n",
       "      <th>length_day</th>\n",
       "      <td>19.42</td>\n",
       "      <td>21.12</td>\n",
       "      <td>7.86</td>\n",
       "      <td>11.36</td>\n",
       "      <td>5.92</td>\n",
       "    </tr>\n",
       "    <tr>\n",
       "      <th>max_length</th>\n",
       "      <td>1,959.00</td>\n",
       "      <td>967.37</td>\n",
       "      <td>2,015.79</td>\n",
       "      <td>3,024.67</td>\n",
       "      <td>1,400.27</td>\n",
       "    </tr>\n",
       "    <tr>\n",
       "      <th>min_length</th>\n",
       "      <td>27.01</td>\n",
       "      <td>22.05</td>\n",
       "      <td>11.94</td>\n",
       "      <td>7.84</td>\n",
       "      <td>38.35</td>\n",
       "    </tr>\n",
       "    <tr>\n",
       "      <th>length_day_song</th>\n",
       "      <td>0.03</td>\n",
       "      <td>0.02</td>\n",
       "      <td>0.01</td>\n",
       "      <td>0.01</td>\n",
       "      <td>0.01</td>\n",
       "    </tr>\n",
       "    <tr>\n",
       "      <th>session_day</th>\n",
       "      <td>0.00</td>\n",
       "      <td>0.00</td>\n",
       "      <td>0.00</td>\n",
       "      <td>0.00</td>\n",
       "      <td>0.00</td>\n",
       "    </tr>\n",
       "    <tr>\n",
       "      <th>page_visit_day</th>\n",
       "      <td>0.09</td>\n",
       "      <td>0.10</td>\n",
       "      <td>0.04</td>\n",
       "      <td>0.05</td>\n",
       "      <td>0.03</td>\n",
       "    </tr>\n",
       "    <tr>\n",
       "      <th>avg_item_session</th>\n",
       "      <td>130.70</td>\n",
       "      <td>150.59</td>\n",
       "      <td>86.75</td>\n",
       "      <td>124.03</td>\n",
       "      <td>160.21</td>\n",
       "    </tr>\n",
       "    <tr>\n",
       "      <th>max_item_session</th>\n",
       "      <td>332.00</td>\n",
       "      <td>393.00</td>\n",
       "      <td>315.00</td>\n",
       "      <td>395.00</td>\n",
       "      <td>551.00</td>\n",
       "    </tr>\n",
       "    <tr>\n",
       "      <th>userId</th>\n",
       "      <td>105.00</td>\n",
       "      <td>17.00</td>\n",
       "      <td>30.00</td>\n",
       "      <td>88.00</td>\n",
       "      <td>141.00</td>\n",
       "    </tr>\n",
       "    <tr>\n",
       "      <th>Churn</th>\n",
       "      <td>1.00</td>\n",
       "      <td>1.00</td>\n",
       "      <td>0.00</td>\n",
       "      <td>0.00</td>\n",
       "      <td>0.00</td>\n",
       "    </tr>\n",
       "  </tbody>\n",
       "</table>\n",
       "</div>"
      ],
      "text/plain": [
       "                           0      1        2        3        4\n",
       "avg_songs_day           0.08   0.09     0.03     0.05     0.02\n",
       "avg_artist_day          0.08   0.09     0.03     0.05     0.02\n",
       "avg_songs_dist_day      0.07   0.08     0.03     0.04     0.02\n",
       "avg_artist_dist_day     0.06   0.07     0.02     0.03     0.02\n",
       "length_day             19.42  21.12     7.86    11.36     5.92\n",
       "max_length          1,959.00 967.37 2,015.79 3,024.67 1,400.27\n",
       "min_length             27.01  22.05    11.94     7.84    38.35\n",
       "length_day_song         0.03   0.02     0.01     0.01     0.01\n",
       "session_day             0.00   0.00     0.00     0.00     0.00\n",
       "page_visit_day          0.09   0.10     0.04     0.05     0.03\n",
       "avg_item_session      130.70 150.59    86.75   124.03   160.21\n",
       "max_item_session      332.00 393.00   315.00   395.00   551.00\n",
       "userId                105.00  17.00    30.00    88.00   141.00\n",
       "Churn                   1.00   1.00     0.00     0.00     0.00"
      ]
     },
     "execution_count": 55,
     "metadata": {},
     "output_type": "execute_result"
    }
   ],
   "source": [
    "dfagg.head().T"
   ]
  },
  {
   "cell_type": "code",
   "execution_count": 56,
   "metadata": {},
   "outputs": [
    {
     "data": {
      "image/png": "[encoded data removed]",
      "text/plain": [
       "<matplotlib.figure.Figure at 0x7fe3284add68>"
      ]
     },
     "metadata": {
      "needs_background": "light"
     },
     "output_type": "display_data"
    }
   ],
   "source": [
    "_,axes = plt.subplots(3,4, figsize = (20,15), sharey = False)\n",
    "x = 0\n",
    "y = 0\n",
    "for c in dfagg.drop(columns = ['Churn', 'userId']).columns:\n",
    "    if x == 4 and y == 0:\n",
    "        y = 1\n",
    "        x = 0\n",
    "    elif x == 4 and y == 1:\n",
    "        y = 2\n",
    "        x = 0\n",
    "            \n",
    "    sns.boxplot(data = dfagg, x = 'Churn', y = c, ax = axes[y,x])\n",
    "    plt.title(c)\n",
    "      \n",
    "    x += 1\n",
    "    \n",
    "plt.show()"
   ]
  },
  {
   "cell_type": "code",
   "execution_count": 48,
   "metadata": {
    "scrolled": true
   },
   "outputs": [
    {
     "data": {
      "image/png": "[encoded data removed]",
      "text/plain": [
       "<matplotlib.figure.Figure at 0x7fe32858fd30>"
      ]
     },
     "metadata": {
      "needs_background": "light"
     },
     "output_type": "display_data"
    }
   ],
   "source": [
    "sns.boxplot(data = dfsc, x = 'Churn', y = 'session_day')\n",
    "plt.ylim(-0.2,0.1)\n",
    "plt.show()"
   ]
  },
  {
   "cell_type": "code",
   "execution_count": 49,
   "metadata": {},
   "outputs": [
    {
     "data": {
      "image/png": "[encoded data removed]",
      "text/plain": [
       "<matplotlib.figure.Figure at 0x7fe328373fd0>"
      ]
     },
     "metadata": {
      "needs_background": "light"
     },
     "output_type": "display_data"
    }
   ],
   "source": [
    "sns.boxplot(data = dfsc, x = 'Churn', y = 'length_day_song')\n",
    "plt.ylim(-0.15,-0.1)\n",
    "plt.show()"
   ]
  },
  {
   "cell_type": "markdown",
   "metadata": {},
   "source": [
    "# Feature Engineering\n"
   ]
  },
  {
   "cell_type": "code",
   "execution_count": 57,
   "metadata": {},
   "outputs": [],
   "source": [
    "# Get State feature\n",
    "df = df.withColumn('state',F.substring('location',-2,2))\n",
    "\n",
    "# Get device feature\n",
    "df = df.withColumn('device', F.split(F.split(col('userAgent'),' \\(').getItem(1),';').getItem(0))"
   ]
  },
  {
   "cell_type": "markdown",
   "metadata": {},
   "source": [
    "### Create aggregated over time features"
   ]
  },
  {
   "cell_type": "code",
   "execution_count": 70,
   "metadata": {},
   "outputs": [],
   "source": [
    "df.createOrReplaceTempView('df')\n",
    "dfagg = spark.sql('select count(song)/datediff(max(date),min(date)) as avg_songs_day, \\\n",
    "count(artist)/datediff(max(date),min(date)) as avg_artist_day, \\\n",
    "count(distinct song)/datediff(max(date),min(date)) as avg_songs_dist_day, \\\n",
    "count(distinct artist)/datediff(max(date),min(date)) as avg_artist_dist_day, \\\n",
    "sum(length)/datediff(max(date),min(date)) as length_day, \\\n",
    "max(length) as max_length, \\\n",
    "min(length) as min_length, \\\n",
    "(sum(length)/count(song))/datediff(max(date),min(date)) as length_day_song, \\\n",
    "count(distinct sessionId)/datediff(max(date),min(date)) as session_day, \\\n",
    "count(page)/datediff(max(date),min(date)) as page_visit_day, \\\n",
    "mean(itemInSession) as avg_item_session, \\\n",
    "max(itemInSession) as max_item_session, \\\n",
    "userId as id, gender from df \\\n",
    "group by userId, gender')"
   ]
  },
  {
   "cell_type": "markdown",
   "metadata": {},
   "source": [
    "### Join both data frames"
   ]
  },
  {
   "cell_type": "code",
   "execution_count": 71,
   "metadata": {},
   "outputs": [],
   "source": [
    "df_input = spark.sql('select distinct userId, Churn, state, device from df')\n",
    "df_input = df_input.fillna('None')\n",
    "dfagg = dfagg.fillna(-0.9999)"
   ]
  },
  {
   "cell_type": "code",
   "execution_count": 72,
   "metadata": {},
   "outputs": [
    {
     "data": {
      "text/plain": [
       "Row(userId=148, Churn=0, state='FL', device='Windows NT 6.1', avg_songs_day=0.00881057268722467, avg_artist_day=0.00881057268722467, avg_songs_dist_day=0.008456378810351316, avg_artist_dist_day=0.007747991056604609, length_day=2.16494058258514, max_length=978.4420166015625, min_length=22.4648494720459, length_day_song=0.005439549202475226, session_day=0.00026564540765501517, page_visit_day=0.011467026763774821, avg_item_session=45.08687258687259, max_item_session=171, id=148, gender='M')"
      ]
     },
     "execution_count": 72,
     "metadata": {},
     "output_type": "execute_result"
    }
   ],
   "source": [
    "df_input = df_input.join(dfagg, df_input.userId == dfagg.id, how = 'left')\n",
    "df_input.first()"
   ]
  },
  {
   "cell_type": "markdown",
   "metadata": {},
   "source": [
    "# Modeling\n",
    "Split the full dataset into train, test, and validation sets. Test out several of the machine learning methods you learned. Evaluate the accuracy of the various models, tuning parameters as necessary. Determine your winning model based on test accuracy and report results on the validation set. Since the churned users are a fairly small subset, I suggest using F1 score as the metric to optimize."
   ]
  },
  {
   "cell_type": "markdown",
   "metadata": {},
   "source": [
    "### Prepare train and test data sets"
   ]
  },
  {
   "cell_type": "code",
   "execution_count": 73,
   "metadata": {},
   "outputs": [],
   "source": [
    "def get_dummy(df,categoricalCols,continuousCols,labelCol):\n",
    "\n",
    "    indexers = [ StringIndexer(inputCol=c, outputCol=\"{0}_indexed\".format(c))\n",
    "                 for c in categoricalCols ]\n",
    "\n",
    "    # default setting: dropLast=True\n",
    "    encoders = [ OneHotEncoder(inputCol=indexer.getOutputCol(),\n",
    "                 outputCol=\"{0}_encoded\".format(indexer.getOutputCol()))\n",
    "                 for indexer in indexers ]\n",
    "\n",
    "    assembler = VectorAssembler(inputCols=[encoder.getOutputCol() for encoder in encoders]\n",
    "                                + continuousCols, outputCol=\"features\")\n",
    "\n",
    "    pipeline = Pipeline(stages=indexers + encoders + [assembler])\n",
    "\n",
    "    model=pipeline.fit(df)\n",
    "    data = model.transform(df)\n",
    "\n",
    "    data = data.withColumn('label',col(labelCol))\n",
    "\n",
    "    return data.select('features','label')"
   ]
  },
  {
   "cell_type": "code",
   "execution_count": 75,
   "metadata": {},
   "outputs": [
    {
     "name": "stdout",
     "output_type": "stream",
     "text": [
      "+--------------------+-----+\n",
      "|            features|label|\n",
      "+--------------------+-----+\n",
      "|(61,[3,39,48,49,5...|    0|\n",
      "|(61,[0,38,48,49,5...|    0|\n",
      "|(61,[1,38,48,49,5...|    0|\n",
      "|(61,[11,42,48,49,...|    0|\n",
      "|(61,[15,39,48,49,...|    1|\n",
      "+--------------------+-----+\n",
      "only showing top 5 rows\n",
      "\n"
     ]
    }
   ],
   "source": [
    "catcols = ['state','device', 'gender']\n",
    "\n",
    "num_cols = ['avg_songs_day',\n",
    "           'avg_artist_day', 'avg_songs_dist_day', 'avg_artist_dist_day',\n",
    "           'length_day', 'length_day_song', 'session_day', 'page_visit_day',\n",
    "           'avg_item_session','max_item_session', 'max_length','min_length']\n",
    "\n",
    "labelCol = 'Churn'\n",
    "\n",
    "data = get_dummy(df_input.drop('userId','id').dropna(),catcols,num_cols,labelCol)\n",
    "data.show(5)"
   ]
  },
  {
   "cell_type": "code",
   "execution_count": 76,
   "metadata": {},
   "outputs": [],
   "source": [
    "(trainingData, testData) = data.randomSplit([0.7, 0.3])"
   ]
  },
  {
   "cell_type": "code",
   "execution_count": 77,
   "metadata": {},
   "outputs": [
    {
     "data": {
      "text/plain": [
       "162"
      ]
     },
     "execution_count": 77,
     "metadata": {},
     "output_type": "execute_result"
    }
   ],
   "source": [
    "trainingData.count()"
   ]
  },
  {
   "cell_type": "markdown",
   "metadata": {},
   "source": [
    "## RF model"
   ]
  },
  {
   "cell_type": "code",
   "execution_count": 78,
   "metadata": {},
   "outputs": [
    {
     "name": "stdout",
     "output_type": "stream",
     "text": [
      "+--------------------+-----+----------+\n",
      "|            features|label|prediction|\n",
      "+--------------------+-----+----------+\n",
      "|(61,[3,39,48,49,5...|    0|       0.0|\n",
      "|(61,[25,38,48,49,...|    1|       0.0|\n",
      "|(61,[0,40,48,49,5...|    0|       1.0|\n",
      "|(61,[30,40,49,50,...|    1|       0.0|\n",
      "|(61,[1,44,49,50,5...|    0|       0.0|\n",
      "+--------------------+-----+----------+\n",
      "only showing top 5 rows\n",
      "\n"
     ]
    }
   ],
   "source": [
    "# Initialize Classifier\n",
    "rf = RandomForestClassifier(labelCol=\"label\", featuresCol=\"features\")\n",
    "\n",
    "# Set up the pipeline\n",
    "pipeline = Pipeline(stages=[rf])\n",
    "\n",
    "# Train the model\n",
    "model = pipeline.fit(trainingData)\n",
    "\n",
    "# Predict on test data\n",
    "predictions = model.transform(testData)\n",
    "\n",
    "# Select example rows to display.\n",
    "predictions.select(\"features\",\"label\",\"prediction\").show(5)"
   ]
  },
  {
   "cell_type": "code",
   "execution_count": 109,
   "metadata": {},
   "outputs": [],
   "source": [
    "def f1score(predicted):\n",
    "    \"\"\"\n",
    "    - Input:\n",
    "    predictions - output of the model prediction results on testData\n",
    "    \n",
    "    - Output:\n",
    "    f1_score per threshold cut\n",
    "    \"\"\"\n",
    "    \n",
    "    proba = predicted.select('probability').toPandas()\n",
    "    y_true = predicted.select('label').toPandas()\n",
    "    churn_proba = [x[1] for x in proba.probability]\n",
    "        \n",
    "    for i in range(0,10,1):\n",
    "        y_pred = [1 if x > i/10 else 0 for x in churn_proba]\n",
    "        print(f'F1 score {np.round(f1_score(y_true, y_pred),2)} with threshold = {i/10}')"
   ]
  },
  {
   "cell_type": "code",
   "execution_count": 107,
   "metadata": {},
   "outputs": [
    {
     "name": "stdout",
     "output_type": "stream",
     "text": [
      "F1 score 0.27 with threshold = 0\n",
      "F1 score 0.27 with threshold = 1\n",
      "F1 score 0.3 with threshold = 2\n",
      "F1 score 0.31 with threshold = 3\n",
      "F1 score 0.22 with threshold = 4\n",
      "F1 score 0.12 with threshold = 5\n",
      "F1 score 0.0 with threshold = 6\n",
      "F1 score 0.0 with threshold = 7\n",
      "F1 score 0.0 with threshold = 8\n",
      "F1 score 0.0 with threshold = 9\n"
     ]
    },
    {
     "name": "stderr",
     "output_type": "stream",
     "text": [
      "/opt/conda/lib/python3.6/site-packages/sklearn/metrics/classification.py:1135: UndefinedMetricWarning: F-score is ill-defined and being set to 0.0 due to no predicted samples.\n",
      "  'precision', 'predicted', average, warn_for)\n"
     ]
    }
   ],
   "source": [
    "f1score(predictions)"
   ]
  },
  {
   "cell_type": "markdown",
   "metadata": {},
   "source": [
    "### Grid Search RF model"
   ]
  },
  {
   "cell_type": "code",
   "execution_count": 85,
   "metadata": {},
   "outputs": [],
   "source": [
    "rf = RandomForestClassifier(labelCol=\"label\", featuresCol=\"features\")\n",
    "pipeline = Pipeline(stages=[rf])\n",
    "\n",
    "paramGrid = ParamGridBuilder().addGrid(rf.numTrees, [10, 20, 30])\\\n",
    "                            .addGrid(rf.maxDepth, [5,10,15]).build()\n",
    "\n",
    "crossval = CrossValidator(estimator=pipeline,\n",
    "                          estimatorParamMaps=paramGrid,\n",
    "                          evaluator=BinaryClassificationEvaluator(),\n",
    "                          numFolds=2) \n",
    "\n",
    "cvModel = crossval.fit(trainingData)"
   ]
  },
  {
   "cell_type": "code",
   "execution_count": 103,
   "metadata": {},
   "outputs": [
    {
     "data": {
      "text/plain": [
       "{Param(parent='RandomForestClassifier_b60281d4e241', name='cacheNodeIds', doc='If false, the algorithm will pass trees to executors to match instances with nodes. If true, the algorithm will cache node IDs for each instance. Caching can speed up training of deeper trees.'): False,\n",
       " Param(parent='RandomForestClassifier_b60281d4e241', name='checkpointInterval', doc='set checkpoint interval (>= 1) or disable checkpoint (-1). E.g. 10 means that the cache will get checkpointed every 10 iterations. Note: this setting will be ignored if the checkpoint directory is not set in the SparkContext'): 10,\n",
       " Param(parent='RandomForestClassifier_b60281d4e241', name='featureSubsetStrategy', doc='The number of features to consider for splits at each tree node. Supported options: auto, all, onethird, sqrt, log2, (0.0-1.0], [1-n].'): 'auto',\n",
       " Param(parent='RandomForestClassifier_b60281d4e241', name='featuresCol', doc='features column name'): 'features',\n",
       " Param(parent='RandomForestClassifier_b60281d4e241', name='impurity', doc='Criterion used for information gain calculation (case-insensitive). Supported options: entropy, gini'): 'gini',\n",
       " Param(parent='RandomForestClassifier_b60281d4e241', name='labelCol', doc='label column name'): 'label',\n",
       " Param(parent='RandomForestClassifier_b60281d4e241', name='maxBins', doc='Max number of bins for discretizing continuous features.  Must be >=2 and >= number of categories for any categorical feature.'): 32,\n",
       " Param(parent='RandomForestClassifier_b60281d4e241', name='maxDepth', doc='Maximum depth of the tree. (>= 0) E.g., depth 0 means 1 leaf node; depth 1 means 1 internal node + 2 leaf nodes.'): 5,\n",
       " Param(parent='RandomForestClassifier_b60281d4e241', name='maxMemoryInMB', doc='Maximum memory in MB allocated to histogram aggregation.'): 256,\n",
       " Param(parent='RandomForestClassifier_b60281d4e241', name='minInfoGain', doc='Minimum information gain for a split to be considered at a tree node.'): 0.0,\n",
       " Param(parent='RandomForestClassifier_b60281d4e241', name='minInstancesPerNode', doc='Minimum number of instances each child must have after split.  If a split causes the left or right child to have fewer than minInstancesPerNode, the split will be discarded as invalid. Should be >= 1.'): 1,\n",
       " Param(parent='RandomForestClassifier_b60281d4e241', name='numTrees', doc='Number of trees to train (>= 1)'): 20,\n",
       " Param(parent='RandomForestClassifier_b60281d4e241', name='predictionCol', doc='prediction column name'): 'prediction',\n",
       " Param(parent='RandomForestClassifier_b60281d4e241', name='probabilityCol', doc='Column name for predicted class conditional probabilities. Note: Not all models output well-calibrated probability estimates! These probabilities should be treated as confidences, not precise probabilities'): 'probability',\n",
       " Param(parent='RandomForestClassifier_b60281d4e241', name='rawPredictionCol', doc='raw prediction (a.k.a. confidence) column name'): 'rawPrediction',\n",
       " Param(parent='RandomForestClassifier_b60281d4e241', name='seed', doc='random seed'): 6691366365307285046,\n",
       " Param(parent='RandomForestClassifier_b60281d4e241', name='subsamplingRate', doc='Fraction of the training data used for learning each decision tree, in range (0, 1].'): 1.0}"
      ]
     },
     "execution_count": 103,
     "metadata": {},
     "output_type": "execute_result"
    }
   ],
   "source": [
    "bestPipeline = cvModel.bestModel\n",
    "bestModel = bestPipeline.stages[0]\n",
    "bestParams = bestModel.extractParamMap()\n",
    "bestParams"
   ]
  },
  {
   "cell_type": "code",
   "execution_count": 112,
   "metadata": {},
   "outputs": [
    {
     "name": "stdout",
     "output_type": "stream",
     "text": [
      "F1 score 0.27 with threshold = 0\n",
      "F1 score 0.27 with threshold = 1\n",
      "F1 score 0.29 with threshold = 2\n",
      "F1 score 0.43 with threshold = 3\n",
      "F1 score 0.3 with threshold = 4\n",
      "F1 score 0.12 with threshold = 5\n",
      "F1 score 0.0 with threshold = 6\n",
      "F1 score 0.0 with threshold = 7\n",
      "F1 score 0.0 with threshold = 8\n",
      "F1 score 0.0 with threshold = 9\n"
     ]
    }
   ],
   "source": [
    "rf = RandomForestClassifier(labelCol=\"label\", featuresCol=\"features\", maxDepth = 5, numTrees = 30)\n",
    "pipeline = Pipeline(stages=[rf])\n",
    "model_tuned = pipeline.fit(trainingData)\n",
    "pred_rf_tuned = model_tuned.transform(testData)\n",
    "f1score(pred_rf_tuned)"
   ]
  },
  {
   "cell_type": "markdown",
   "metadata": {},
   "source": [
    "### Conclusion"
   ]
  },
  {
   "cell_type": "markdown",
   "metadata": {},
   "source": [
    "After running grid search with 2 fold cross validation, the best parameters for RF Classifier are:\n",
    "numTrees = 30 and maxDepth = 5 with threshold of 0.3\n"
   ]
  },
  {
   "cell_type": "markdown",
   "metadata": {},
   "source": [
    "## Gradient-Boosted Tree Classifier\n"
   ]
  },
  {
   "cell_type": "code",
   "execution_count": 113,
   "metadata": {},
   "outputs": [],
   "source": [
    "from pyspark.ml.classification import GBTClassifier"
   ]
  },
  {
   "cell_type": "code",
   "execution_count": 114,
   "metadata": {},
   "outputs": [
    {
     "name": "stdout",
     "output_type": "stream",
     "text": [
      "+--------------------+-----+----------+\n",
      "|            features|label|prediction|\n",
      "+--------------------+-----+----------+\n",
      "|(61,[3,39,48,49,5...|    0|       0.0|\n",
      "|(61,[25,38,48,49,...|    1|       0.0|\n",
      "|(61,[0,40,48,49,5...|    0|       0.0|\n",
      "|(61,[30,40,49,50,...|    1|       0.0|\n",
      "|(61,[1,44,49,50,5...|    0|       0.0|\n",
      "+--------------------+-----+----------+\n",
      "only showing top 5 rows\n",
      "\n"
     ]
    }
   ],
   "source": [
    "# Initialize the classifier\n",
    "gbtc = GBTClassifier(labelCol=\"label\", featuresCol=\"features\")\n",
    "\n",
    "# Create pipeline\n",
    "pipeline_gbtc = Pipeline(stages=[gbtc])\n",
    "\n",
    "# Train the model\n",
    "model_gbtc = pipeline_gbtc.fit(trainingData)\n",
    "\n",
    "# Predict on test data\n",
    "predictions_gbtc = model_gbtc.transform(testData)\n",
    "\n",
    "# Select example rows to display\n",
    "predictions_gbtc.select(\"features\",\"label\",\"prediction\").show(5)"
   ]
  },
  {
   "cell_type": "code",
   "execution_count": 116,
   "metadata": {},
   "outputs": [
    {
     "name": "stdout",
     "output_type": "stream",
     "text": [
      "F1 score 0.27 with threshold = 0\n",
      "F1 score 0.38 with threshold = 1\n",
      "F1 score 0.41 with threshold = 2\n",
      "F1 score 0.38 with threshold = 3\n",
      "F1 score 0.26 with threshold = 4\n",
      "F1 score 0.3 with threshold = 5\n",
      "F1 score 0.3 with threshold = 6\n",
      "F1 score 0.32 with threshold = 7\n",
      "F1 score 0.25 with threshold = 8\n",
      "F1 score 0.15 with threshold = 9\n"
     ]
    }
   ],
   "source": [
    "f1score(predictions_gbtc)"
   ]
  },
  {
   "cell_type": "markdown",
   "metadata": {},
   "source": [
    "### Grid Search GBT model"
   ]
  },
  {
   "cell_type": "code",
   "execution_count": null,
   "metadata": {},
   "outputs": [],
   "source": [
    "gbtc = GBTClassifier(labelCol=\"label\", featuresCol=\"features\")\n",
    "pipeline_gbtc = Pipeline(stages=[gbtc])\n",
    "\n",
    "paramGrid = ParamGridBuilder().addGrid(gbtc.maxIter, [20, 30, 50])\\\n",
    "                            .addGrid(gbtc.maxDepth, [5,10,15]).build()\n",
    "\n",
    "crossval = CrossValidator(estimator=pipeline_gbtc,\n",
    "                          estimatorParamMaps=paramGrid,\n",
    "                          evaluator=BinaryClassificationEvaluator(),\n",
    "                          numFolds=2) \n",
    "\n",
    "cvModel = crossval.fit(trainingData)"
   ]
  },
  {
   "cell_type": "code",
   "execution_count": null,
   "metadata": {},
   "outputs": [],
   "source": [
    "bestPipeline = cvModel.bestModel\n",
    "bestModel = bestPipeline.stages[0]\n",
    "bestParams = bestModel.extractParamMap()\n",
    "bestParams"
   ]
  },
  {
   "cell_type": "code",
   "execution_count": 121,
   "metadata": {},
   "outputs": [
    {
     "name": "stdout",
     "output_type": "stream",
     "text": [
      "F1 score 0.27 with threshold = 0\n",
      "F1 score 0.27 with threshold = 1\n",
      "F1 score 0.29 with threshold = 2\n",
      "F1 score 0.43 with threshold = 3\n",
      "F1 score 0.3 with threshold = 4\n",
      "F1 score 0.12 with threshold = 5\n",
      "F1 score 0.0 with threshold = 6\n",
      "F1 score 0.0 with threshold = 7\n",
      "F1 score 0.0 with threshold = 8\n",
      "F1 score 0.0 with threshold = 9\n"
     ]
    }
   ],
   "source": [
    "gbtc = GBTClassifier(labelCol=\"label\", featuresCol=\"features\", maxIter = 30, maxDepth = 5)\n",
    "pipeline_gbtc = Pipeline(stages=[gbtc])\n",
    "model_tuned = pipeline.fit(trainingData)\n",
    "pred_gbtc_tuned = model_tuned.transform(testData)\n",
    "f1score(pred_gbtc_tuned)"
   ]
  },
  {
   "cell_type": "markdown",
   "metadata": {},
   "source": [
    "### Conclusion GBTC"
   ]
  },
  {
   "cell_type": "markdown",
   "metadata": {},
   "source": [
    "Random Forest Classifier best f1 score - 43% vs GBT Classifier best f1 score - 43%\n",
    "Though both scores are rather low, we see that both models perform exactly on the same level. However, Random Forest model experienced a much better improvement of 12 percentage point, while GBT improved only by 2."
   ]
  },
  {
   "cell_type": "markdown",
   "metadata": {},
   "source": [
    "# Reflection and Improvements"
   ]
  },
  {
   "cell_type": "markdown",
   "metadata": {},
   "source": [
    "Further steps to improve the results could be the following:\n",
    "- An important next step here would be to run the same analysis of Churn on a much larger data set\n",
    "- To enable the work with a much larger data set, one could use AWS (EC2 instances or Sagemaker)\n",
    "- Invest considerably more time and effort into feature engineering. For feature generation, one could look into solutions like   FeatureTools for automatic deep synthesis and feature generation\n",
    "- Additionally, one could look into alternative classification methods and algorithms e.g. famous XGBoost, LightGBM, CatBoost to achieve even better f1 score\n",
    "- Perform more extensive grid search and parameter tuning of the algorithm\n",
    "- Ensure no overfitting when tuning the parameters"
   ]
  },
  {
   "cell_type": "markdown",
   "metadata": {},
   "source": [
    "# Conclusion"
   ]
  },
  {
   "cell_type": "markdown",
   "metadata": {},
   "source": [
    "In the course of this analysis, I used PySpark to get a high-level overview of the available data, as well as to perform some deep-dive analysis. I generated data insights into the customer churn for Sparkify users that inspired me for the creation of new features explaining the churn. As a final step, I aggregated the user data and prepared it in a format required to tune and train ML models that can be used to predict the probability of churn for each Sparkify user.\n"
   ]
  }
 ],
 "metadata": {
  "kernelspec": {
   "display_name": "Python 3",
   "language": "python",
   "name": "python3"
  },
  "language_info": {
   "codemirror_mode": {
    "name": "ipython",
    "version": 3
   },
   "file_extension": ".py",
   "mimetype": "text/x-python",
   "name": "python",
   "nbconvert_exporter": "python",
   "pygments_lexer": "ipython3",
   "version": "3.6.3"
  }
 },
 "nbformat": 4,
 "nbformat_minor": 2
}
